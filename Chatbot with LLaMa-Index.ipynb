{
 "cells": [
  {
   "cell_type": "markdown",
   "id": "4ff52872",
   "metadata": {},
   "source": [
    "# Chatbot with LLaMa-Index\n",
    "\n",
    "### Sources\n",
    "blog: https://betterprogramming.pub/how-to-build-your-own-custom-chatgpt-with-custom-knowledge-base-4e61ad82427e\n",
    "pypi: https://pypi.org/project/llama-index/\n"
   ]
  }
 ],
 "metadata": {
  "kernelspec": {
   "display_name": "Python 3 (ipykernel)",
   "language": "python",
   "name": "python3"
  },
  "language_info": {
   "codemirror_mode": {
    "name": "ipython",
    "version": 3
   },
   "file_extension": ".py",
   "mimetype": "text/x-python",
   "name": "python",
   "nbconvert_exporter": "python",
   "pygments_lexer": "ipython3",
   "version": "3.10.9"
  }
 },
 "nbformat": 4,
 "nbformat_minor": 5
}
