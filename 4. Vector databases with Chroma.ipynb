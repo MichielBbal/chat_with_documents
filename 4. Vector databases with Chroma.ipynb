{
 "cells": [
  {
   "cell_type": "markdown",
   "id": "f5141bb1",
   "metadata": {},
   "source": [
    "# Vector databases with Chroma\n",
    "\n",
    "\n",
    "We will use semantic search. Semantic search denotes search with meaning, as distinguished from lexical search where the search engine looks for literal matches of the query words or variants of them, without understanding the overall meaning of the query\n",
    "\n",
    "\n",
    "### Sources\n",
    "- Pypi: https://pypi.org/project/chromadb/\n",
    "- GitHub: https://github.com/chroma-core/chroma\n",
    "- Blog: https://blog.langchain.dev/langchain-chroma/\n",
    "- Getting started: https://docs.trychroma.com/getting-started\n",
    "- Semantic Search: https://en.wikipedia.org/wiki/Semantic_search\n",
    "\n",
    "### Contents\n",
    "0. Install packages\n",
    "1. Getting started with chromadb"
   ]
  },
  {
   "cell_type": "markdown",
   "id": "ee8c386a",
   "metadata": {},
   "source": [
    "## 0. Install packages"
   ]
  },
  {
   "cell_type": "code",
   "execution_count": 14,
   "id": "93ba24f6",
   "metadata": {},
   "outputs": [
    {
     "name": "stdout",
     "output_type": "stream",
     "text": [
      "huggingface/tokenizers: The current process just got forked, after parallelism has already been used. Disabling parallelism to avoid deadlocks...\n",
      "To disable this warning, you can either:\n",
      "\t- Avoid using `tokenizers` before the fork if possible\n",
      "\t- Explicitly set the environment variable TOKENIZERS_PARALLELISM=(true | false)\n",
      "Requirement already satisfied: chromadb in /Users/michielbontenbal/anaconda3/lib/python3.10/site-packages (0.3.21)\n",
      "Requirement already satisfied: duckdb>=0.7.1 in /Users/michielbontenbal/anaconda3/lib/python3.10/site-packages (from chromadb) (0.7.1)\n",
      "Requirement already satisfied: posthog>=2.4.0 in /Users/michielbontenbal/anaconda3/lib/python3.10/site-packages (from chromadb) (2.4.2)\n",
      "Requirement already satisfied: sentence-transformers>=2.2.2 in /Users/michielbontenbal/anaconda3/lib/python3.10/site-packages (from chromadb) (2.2.2)\n",
      "Requirement already satisfied: clickhouse-connect>=0.5.7 in /Users/michielbontenbal/anaconda3/lib/python3.10/site-packages (from chromadb) (0.5.20)\n",
      "Requirement already satisfied: numpy>=1.21.6 in /Users/michielbontenbal/anaconda3/lib/python3.10/site-packages (from chromadb) (1.24.2)\n",
      "Requirement already satisfied: fastapi>=0.85.1 in /Users/michielbontenbal/anaconda3/lib/python3.10/site-packages (from chromadb) (0.95.0)\n",
      "Requirement already satisfied: uvicorn[standard]>=0.18.3 in /Users/michielbontenbal/anaconda3/lib/python3.10/site-packages (from chromadb) (0.21.1)\n",
      "Requirement already satisfied: pandas>=1.3 in /Users/michielbontenbal/anaconda3/lib/python3.10/site-packages (from chromadb) (1.5.3)\n",
      "Requirement already satisfied: hnswlib>=0.7 in /Users/michielbontenbal/anaconda3/lib/python3.10/site-packages (from chromadb) (0.7.0)\n",
      "Requirement already satisfied: requests>=2.28 in /Users/michielbontenbal/anaconda3/lib/python3.10/site-packages (from chromadb) (2.28.1)\n",
      "Requirement already satisfied: pydantic>=1.9 in /Users/michielbontenbal/anaconda3/lib/python3.10/site-packages (from chromadb) (1.10.7)\n",
      "Requirement already satisfied: urllib3>=1.26 in /Users/michielbontenbal/anaconda3/lib/python3.10/site-packages (from clickhouse-connect>=0.5.7->chromadb) (1.26.14)\n",
      "Requirement already satisfied: pytz in /Users/michielbontenbal/anaconda3/lib/python3.10/site-packages (from clickhouse-connect>=0.5.7->chromadb) (2022.7)\n",
      "Requirement already satisfied: zstandard in /Users/michielbontenbal/anaconda3/lib/python3.10/site-packages (from clickhouse-connect>=0.5.7->chromadb) (0.19.0)\n",
      "Requirement already satisfied: certifi in /Users/michielbontenbal/anaconda3/lib/python3.10/site-packages (from clickhouse-connect>=0.5.7->chromadb) (2022.12.7)\n",
      "Requirement already satisfied: lz4 in /Users/michielbontenbal/anaconda3/lib/python3.10/site-packages (from clickhouse-connect>=0.5.7->chromadb) (3.1.3)\n",
      "Requirement already satisfied: starlette<0.27.0,>=0.26.1 in /Users/michielbontenbal/anaconda3/lib/python3.10/site-packages (from fastapi>=0.85.1->chromadb) (0.26.1)\n",
      "Requirement already satisfied: python-dateutil>=2.8.1 in /Users/michielbontenbal/anaconda3/lib/python3.10/site-packages (from pandas>=1.3->chromadb) (2.8.2)\n",
      "Requirement already satisfied: backoff>=1.10.0 in /Users/michielbontenbal/anaconda3/lib/python3.10/site-packages (from posthog>=2.4.0->chromadb) (2.2.1)\n",
      "Requirement already satisfied: six>=1.5 in /Users/michielbontenbal/anaconda3/lib/python3.10/site-packages (from posthog>=2.4.0->chromadb) (1.16.0)\n",
      "Requirement already satisfied: monotonic>=1.5 in /Users/michielbontenbal/anaconda3/lib/python3.10/site-packages (from posthog>=2.4.0->chromadb) (1.6)\n",
      "Requirement already satisfied: typing-extensions>=4.2.0 in /Users/michielbontenbal/anaconda3/lib/python3.10/site-packages (from pydantic>=1.9->chromadb) (4.4.0)\n",
      "Requirement already satisfied: idna<4,>=2.5 in /Users/michielbontenbal/anaconda3/lib/python3.10/site-packages (from requests>=2.28->chromadb) (3.4)\n",
      "Requirement already satisfied: charset-normalizer<3,>=2 in /Users/michielbontenbal/anaconda3/lib/python3.10/site-packages (from requests>=2.28->chromadb) (2.0.4)\n",
      "Requirement already satisfied: transformers<5.0.0,>=4.6.0 in /Users/michielbontenbal/anaconda3/lib/python3.10/site-packages (from sentence-transformers>=2.2.2->chromadb) (4.24.0)\n",
      "Requirement already satisfied: huggingface-hub>=0.4.0 in /Users/michielbontenbal/anaconda3/lib/python3.10/site-packages (from sentence-transformers>=2.2.2->chromadb) (0.13.3)\n",
      "Requirement already satisfied: tqdm in /Users/michielbontenbal/anaconda3/lib/python3.10/site-packages (from sentence-transformers>=2.2.2->chromadb) (4.64.1)\n",
      "Requirement already satisfied: scipy in /Users/michielbontenbal/anaconda3/lib/python3.10/site-packages (from sentence-transformers>=2.2.2->chromadb) (1.10.0)\n",
      "Requirement already satisfied: torch>=1.6.0 in /Users/michielbontenbal/anaconda3/lib/python3.10/site-packages (from sentence-transformers>=2.2.2->chromadb) (2.0.0)\n",
      "Requirement already satisfied: sentencepiece in /Users/michielbontenbal/anaconda3/lib/python3.10/site-packages (from sentence-transformers>=2.2.2->chromadb) (0.1.97)\n",
      "Requirement already satisfied: scikit-learn in /Users/michielbontenbal/anaconda3/lib/python3.10/site-packages (from sentence-transformers>=2.2.2->chromadb) (1.2.1)\n",
      "Requirement already satisfied: nltk in /Users/michielbontenbal/anaconda3/lib/python3.10/site-packages (from sentence-transformers>=2.2.2->chromadb) (3.7)\n",
      "Requirement already satisfied: torchvision in /Users/michielbontenbal/anaconda3/lib/python3.10/site-packages (from sentence-transformers>=2.2.2->chromadb) (0.15.1)\n",
      "Requirement already satisfied: h11>=0.8 in /Users/michielbontenbal/anaconda3/lib/python3.10/site-packages (from uvicorn[standard]>=0.18.3->chromadb) (0.14.0)\n",
      "Requirement already satisfied: click>=7.0 in /Users/michielbontenbal/anaconda3/lib/python3.10/site-packages (from uvicorn[standard]>=0.18.3->chromadb) (8.0.4)\n",
      "Requirement already satisfied: pyyaml>=5.1 in /Users/michielbontenbal/anaconda3/lib/python3.10/site-packages (from uvicorn[standard]>=0.18.3->chromadb) (6.0)\n",
      "Requirement already satisfied: websockets>=10.4 in /Users/michielbontenbal/anaconda3/lib/python3.10/site-packages (from uvicorn[standard]>=0.18.3->chromadb) (11.0.1)\n",
      "Requirement already satisfied: watchfiles>=0.13 in /Users/michielbontenbal/anaconda3/lib/python3.10/site-packages (from uvicorn[standard]>=0.18.3->chromadb) (0.19.0)\n",
      "Requirement already satisfied: uvloop!=0.15.0,!=0.15.1,>=0.14.0 in /Users/michielbontenbal/anaconda3/lib/python3.10/site-packages (from uvicorn[standard]>=0.18.3->chromadb) (0.17.0)\n",
      "Requirement already satisfied: python-dotenv>=0.13 in /Users/michielbontenbal/anaconda3/lib/python3.10/site-packages (from uvicorn[standard]>=0.18.3->chromadb) (1.0.0)\n",
      "Requirement already satisfied: httptools>=0.5.0 in /Users/michielbontenbal/anaconda3/lib/python3.10/site-packages (from uvicorn[standard]>=0.18.3->chromadb) (0.5.0)\n",
      "Requirement already satisfied: packaging>=20.9 in /Users/michielbontenbal/anaconda3/lib/python3.10/site-packages (from huggingface-hub>=0.4.0->sentence-transformers>=2.2.2->chromadb) (22.0)\n",
      "Requirement already satisfied: filelock in /Users/michielbontenbal/anaconda3/lib/python3.10/site-packages (from huggingface-hub>=0.4.0->sentence-transformers>=2.2.2->chromadb) (3.9.0)\n",
      "Requirement already satisfied: anyio<5,>=3.4.0 in /Users/michielbontenbal/anaconda3/lib/python3.10/site-packages (from starlette<0.27.0,>=0.26.1->fastapi>=0.85.1->chromadb) (3.5.0)\n",
      "Requirement already satisfied: networkx in /Users/michielbontenbal/anaconda3/lib/python3.10/site-packages (from torch>=1.6.0->sentence-transformers>=2.2.2->chromadb) (2.8.4)\n",
      "Requirement already satisfied: jinja2 in /Users/michielbontenbal/anaconda3/lib/python3.10/site-packages (from torch>=1.6.0->sentence-transformers>=2.2.2->chromadb) (3.1.2)\n",
      "Requirement already satisfied: sympy in /Users/michielbontenbal/anaconda3/lib/python3.10/site-packages (from torch>=1.6.0->sentence-transformers>=2.2.2->chromadb) (1.11.1)\n",
      "Requirement already satisfied: tokenizers!=0.11.3,<0.14,>=0.11.1 in /Users/michielbontenbal/anaconda3/lib/python3.10/site-packages (from transformers<5.0.0,>=4.6.0->sentence-transformers>=2.2.2->chromadb) (0.11.4)\n",
      "Requirement already satisfied: regex!=2019.12.17 in /Users/michielbontenbal/anaconda3/lib/python3.10/site-packages (from transformers<5.0.0,>=4.6.0->sentence-transformers>=2.2.2->chromadb) (2022.7.9)\n"
     ]
    },
    {
     "name": "stdout",
     "output_type": "stream",
     "text": [
      "Requirement already satisfied: joblib in /Users/michielbontenbal/anaconda3/lib/python3.10/site-packages (from nltk->sentence-transformers>=2.2.2->chromadb) (1.1.1)\n",
      "Requirement already satisfied: threadpoolctl>=2.0.0 in /Users/michielbontenbal/anaconda3/lib/python3.10/site-packages (from scikit-learn->sentence-transformers>=2.2.2->chromadb) (2.2.0)\n",
      "Requirement already satisfied: pillow!=8.3.*,>=5.3.0 in /Users/michielbontenbal/anaconda3/lib/python3.10/site-packages (from torchvision->sentence-transformers>=2.2.2->chromadb) (9.4.0)\n",
      "Requirement already satisfied: sniffio>=1.1 in /Users/michielbontenbal/anaconda3/lib/python3.10/site-packages (from anyio<5,>=3.4.0->starlette<0.27.0,>=0.26.1->fastapi>=0.85.1->chromadb) (1.2.0)\n",
      "Requirement already satisfied: MarkupSafe>=2.0 in /Users/michielbontenbal/anaconda3/lib/python3.10/site-packages (from jinja2->torch>=1.6.0->sentence-transformers>=2.2.2->chromadb) (2.1.1)\n",
      "Requirement already satisfied: mpmath>=0.19 in /Users/michielbontenbal/anaconda3/lib/python3.10/site-packages/mpmath-1.2.1-py3.10.egg (from sympy->torch>=1.6.0->sentence-transformers>=2.2.2->chromadb) (1.2.1)\n"
     ]
    }
   ],
   "source": [
    "!pip install chromadb"
   ]
  },
  {
   "cell_type": "markdown",
   "id": "4686dd73",
   "metadata": {},
   "source": [
    "## 1. Getting started with chromadb"
   ]
  },
  {
   "cell_type": "code",
   "execution_count": 2,
   "id": "b597d00d",
   "metadata": {},
   "outputs": [
    {
     "name": "stderr",
     "output_type": "stream",
     "text": [
      "Using embedded DuckDB without persistence: data will be transient\n"
     ]
    }
   ],
   "source": [
    "#create a client\n",
    "import chromadb\n",
    "chroma_client = chromadb.Client()"
   ]
  },
  {
   "cell_type": "code",
   "execution_count": 3,
   "id": "eaa963f1",
   "metadata": {},
   "outputs": [
    {
     "name": "stderr",
     "output_type": "stream",
     "text": [
      "No embedding_function provided, using default embedding function: SentenceTransformerEmbeddingFunction\n",
      "/Users/michielbontenbal/anaconda3/lib/python3.10/site-packages/huggingface_hub/utils/_hf_folder.py:92: UserWarning: A token has been found in `/Users/michielbontenbal/.huggingface/token`. This is the old path where tokens were stored. The new location is `/Users/michielbontenbal/.cache/huggingface/token` which is configurable using `HF_HOME` environment variable. Your token has been copied to this new location. You can now safely delete the old token file manually or use `huggingface-cli logout`.\n",
      "  warnings.warn(\n"
     ]
    },
    {
     "data": {
      "application/vnd.jupyter.widget-view+json": {
       "model_id": "86046244da3242fab64034c9cdc8512e",
       "version_major": 2,
       "version_minor": 0
      },
      "text/plain": [
       "Downloading (…)e9125/.gitattributes:   0%|          | 0.00/1.18k [00:00<?, ?B/s]"
      ]
     },
     "metadata": {},
     "output_type": "display_data"
    },
    {
     "data": {
      "application/vnd.jupyter.widget-view+json": {
       "model_id": "6133cb27713043d6be13e6fd7ad580f5",
       "version_major": 2,
       "version_minor": 0
      },
      "text/plain": [
       "Downloading (…)_Pooling/config.json:   0%|          | 0.00/190 [00:00<?, ?B/s]"
      ]
     },
     "metadata": {},
     "output_type": "display_data"
    },
    {
     "data": {
      "application/vnd.jupyter.widget-view+json": {
       "model_id": "4d6bbee2aa69480596a0c76c81864d89",
       "version_major": 2,
       "version_minor": 0
      },
      "text/plain": [
       "Downloading (…)7e55de9125/README.md:   0%|          | 0.00/10.6k [00:00<?, ?B/s]"
      ]
     },
     "metadata": {},
     "output_type": "display_data"
    },
    {
     "data": {
      "application/vnd.jupyter.widget-view+json": {
       "model_id": "5170bb2e0da84868a16884c8838dc818",
       "version_major": 2,
       "version_minor": 0
      },
      "text/plain": [
       "Downloading (…)55de9125/config.json:   0%|          | 0.00/612 [00:00<?, ?B/s]"
      ]
     },
     "metadata": {},
     "output_type": "display_data"
    },
    {
     "data": {
      "application/vnd.jupyter.widget-view+json": {
       "model_id": "b842877bfc304efdbefbd2df6e10b85a",
       "version_major": 2,
       "version_minor": 0
      },
      "text/plain": [
       "Downloading (…)ce_transformers.json:   0%|          | 0.00/116 [00:00<?, ?B/s]"
      ]
     },
     "metadata": {},
     "output_type": "display_data"
    },
    {
     "data": {
      "application/vnd.jupyter.widget-view+json": {
       "model_id": "28bd24ca0d804edb91d825951ba02811",
       "version_major": 2,
       "version_minor": 0
      },
      "text/plain": [
       "Downloading (…)125/data_config.json:   0%|          | 0.00/39.3k [00:00<?, ?B/s]"
      ]
     },
     "metadata": {},
     "output_type": "display_data"
    },
    {
     "data": {
      "application/vnd.jupyter.widget-view+json": {
       "model_id": "88fa2aa9f38e4dfa8db50b2578127bf1",
       "version_major": 2,
       "version_minor": 0
      },
      "text/plain": [
       "Downloading pytorch_model.bin:   0%|          | 0.00/90.9M [00:00<?, ?B/s]"
      ]
     },
     "metadata": {},
     "output_type": "display_data"
    },
    {
     "data": {
      "application/vnd.jupyter.widget-view+json": {
       "model_id": "949e28be5f4e455696bfa2bcafe728af",
       "version_major": 2,
       "version_minor": 0
      },
      "text/plain": [
       "Downloading (…)nce_bert_config.json:   0%|          | 0.00/53.0 [00:00<?, ?B/s]"
      ]
     },
     "metadata": {},
     "output_type": "display_data"
    },
    {
     "data": {
      "application/vnd.jupyter.widget-view+json": {
       "model_id": "077613778a6b46228e2450da04fd6138",
       "version_major": 2,
       "version_minor": 0
      },
      "text/plain": [
       "Downloading (…)cial_tokens_map.json:   0%|          | 0.00/112 [00:00<?, ?B/s]"
      ]
     },
     "metadata": {},
     "output_type": "display_data"
    },
    {
     "data": {
      "application/vnd.jupyter.widget-view+json": {
       "model_id": "1448580d343f407eae97eab81e2698fe",
       "version_major": 2,
       "version_minor": 0
      },
      "text/plain": [
       "Downloading (…)e9125/tokenizer.json:   0%|          | 0.00/466k [00:00<?, ?B/s]"
      ]
     },
     "metadata": {},
     "output_type": "display_data"
    },
    {
     "data": {
      "application/vnd.jupyter.widget-view+json": {
       "model_id": "f5ad243139cd49cda53322513df2b9e1",
       "version_major": 2,
       "version_minor": 0
      },
      "text/plain": [
       "Downloading (…)okenizer_config.json:   0%|          | 0.00/350 [00:00<?, ?B/s]"
      ]
     },
     "metadata": {},
     "output_type": "display_data"
    },
    {
     "data": {
      "application/vnd.jupyter.widget-view+json": {
       "model_id": "0120e7b9b2df47ce848abe6fb795f2dd",
       "version_major": 2,
       "version_minor": 0
      },
      "text/plain": [
       "Downloading (…)9125/train_script.py:   0%|          | 0.00/13.2k [00:00<?, ?B/s]"
      ]
     },
     "metadata": {},
     "output_type": "display_data"
    },
    {
     "data": {
      "application/vnd.jupyter.widget-view+json": {
       "model_id": "38883878066a4ab3a772e00444b3f3c7",
       "version_major": 2,
       "version_minor": 0
      },
      "text/plain": [
       "Downloading (…)7e55de9125/vocab.txt:   0%|          | 0.00/232k [00:00<?, ?B/s]"
      ]
     },
     "metadata": {},
     "output_type": "display_data"
    },
    {
     "data": {
      "application/vnd.jupyter.widget-view+json": {
       "model_id": "c74697f47f38464d9e945951915dcf53",
       "version_major": 2,
       "version_minor": 0
      },
      "text/plain": [
       "Downloading (…)5de9125/modules.json:   0%|          | 0.00/349 [00:00<?, ?B/s]"
      ]
     },
     "metadata": {},
     "output_type": "display_data"
    }
   ],
   "source": [
    "#create a collection\n",
    "collection = chroma_client.create_collection(name=\"my_collection\")"
   ]
  },
  {
   "cell_type": "markdown",
   "id": "46ca8b1e",
   "metadata": {},
   "source": [
    "## 2. Downloading data\n",
    "We will use Quentin Tarantino filmscripts"
   ]
  },
  {
   "cell_type": "code",
   "execution_count": 5,
   "id": "fd21bd8e",
   "metadata": {},
   "outputs": [
    {
     "name": "stdout",
     "output_type": "stream",
     "text": [
      "\r",
      "  0% [                                                        ]      0 / 147913\r",
      "  5% [...                                                     ]   8192 / 147913\r",
      " 11% [......                                                  ]  16384 / 147913\r",
      " 16% [.........                                               ]  24576 / 147913\r",
      " 22% [............                                            ]  32768 / 147913\r",
      " 27% [...............                                         ]  40960 / 147913\r",
      " 33% [..................                                      ]  49152 / 147913\r",
      " 38% [.....................                                   ]  57344 / 147913\r",
      " 44% [........................                                ]  65536 / 147913\r",
      " 49% [...........................                             ]  73728 / 147913\r",
      " 55% [...............................                         ]  81920 / 147913\r",
      " 60% [..................................                      ]  90112 / 147913\r",
      " 66% [.....................................                   ]  98304 / 147913\r",
      " 71% [........................................                ] 106496 / 147913\r",
      " 77% [...........................................             ] 114688 / 147913\r",
      " 83% [..............................................          ] 122880 / 147913\r",
      " 88% [.................................................       ] 131072 / 147913\r",
      " 94% [....................................................    ] 139264 / 147913\r",
      " 99% [....................................................... ] 147456 / 147913\r",
      "100% [........................................................] 147913 / 147913"
     ]
    }
   ],
   "source": [
    "import wget\n",
    "pulp_fiction=wget.download('https://assets.scriptslug.com/live/pdf/scripts/pulp-fiction-1994.pdf')\n",
    "res_dogs = wget.download('https://assets.scriptslug.com/live/pdf/scripts/reservoir-dogs-1992.pdf')\n",
    "jackie_brown = wget.download('https://assets.scriptslug.com/live/pdf/scripts/jackie-brown-1997.pdf')"
   ]
  },
  {
   "cell_type": "code",
   "execution_count": 8,
   "id": "feb90e0a",
   "metadata": {},
   "outputs": [
    {
     "data": {
      "text/plain": [
       "['pulp-fiction-1994.pdf',\n",
       " 'jackie-brown-1997.pdf',\n",
       " 'pulp-fiction-1994 (1).pdf',\n",
       " 'reservoir-dogs-1992.pdf',\n",
       " 'temp.pdf']"
      ]
     },
     "execution_count": 8,
     "metadata": {},
     "output_type": "execute_result"
    }
   ],
   "source": [
    "import glob\n",
    "my_pdfs = glob.glob('*.pdf')\n",
    "my_pdfs"
   ]
  },
  {
   "cell_type": "code",
   "execution_count": 10,
   "id": "e4369214",
   "metadata": {},
   "outputs": [],
   "source": [
    "collection.add(\n",
    "    \n",
    "    documents=[\"pulp-fiction-1994.pdf\", \"jackie-brown-1997.pdf\",\"reservoir-dogs-1992.pdf\"],\n",
    "    metadatas=[{\"source\": \"my_source\"}, {\"source\": \"my_source\"}, {\"source\": \"my_source\"}],\n",
    "    ids=[\"id1\", \"id2\", \"id3\"]\n",
    ")"
   ]
  },
  {
   "cell_type": "code",
   "execution_count": 11,
   "id": "b138c198",
   "metadata": {},
   "outputs": [],
   "source": [
    "results = collection.query(\n",
    "    query_texts=[\"Who is Jackie Brown\"],\n",
    "    n_results=2\n",
    ")"
   ]
  },
  {
   "cell_type": "code",
   "execution_count": 12,
   "id": "d03dd8f7",
   "metadata": {},
   "outputs": [
    {
     "data": {
      "text/plain": [
       "{'ids': [['id2', 'id1']],\n",
       " 'embeddings': None,\n",
       " 'documents': [['jackie-brown-1997.pdf', 'pulp-fiction-1994.pdf']],\n",
       " 'metadatas': [[{'source': 'my_source'}, {'source': 'my_source'}]],\n",
       " 'distances': [[0.6836943030357361, 1.7194474935531616]]}"
      ]
     },
     "execution_count": 12,
     "metadata": {},
     "output_type": "execute_result"
    }
   ],
   "source": [
    "results"
   ]
  },
  {
   "cell_type": "code",
   "execution_count": null,
   "id": "ec069853",
   "metadata": {},
   "outputs": [],
   "source": []
  }
 ],
 "metadata": {
  "kernelspec": {
   "display_name": "Python 3 (ipykernel)",
   "language": "python",
   "name": "python3"
  },
  "language_info": {
   "codemirror_mode": {
    "name": "ipython",
    "version": 3
   },
   "file_extension": ".py",
   "mimetype": "text/x-python",
   "name": "python",
   "nbconvert_exporter": "python",
   "pygments_lexer": "ipython3",
   "version": "3.10.9"
  }
 },
 "nbformat": 4,
 "nbformat_minor": 5
}
