{
 "cells": [
  {
   "cell_type": "markdown",
   "metadata": {},
   "source": [
    "# Question answering on the Pulp Fiction film script\n",
    "\n",
    "In this notebook we will take a .pdf from the internet to do question answering on. Here we will use the Pulp Fiction film script (1994). \n",
    "\n",
    "### Contents\n",
    "0. Install packages\n",
    "1. Imports & settings & getting the data\n",
    "2. Langchain\n",
    "3. Queries\n",
    "\n",
    "### Sources\n",
    "- Blog: https://towardsdatascience.com/4-ways-of-question-answering-in-langchain-188c6707cc5a"
   ]
  },
  {
   "cell_type": "markdown",
   "metadata": {},
   "source": [
    "## 0. Install packages"
   ]
  },
  {
   "cell_type": "code",
   "execution_count": 7,
   "metadata": {
    "id": "xlorSbccWEDa"
   },
   "outputs": [
    {
     "name": "stdout",
     "output_type": "stream",
     "text": [
      "Requirement already satisfied: langchain in /Users/michielbontenbal/anaconda3/lib/python3.10/site-packages (0.0.136)\n",
      "Requirement already satisfied: dataclasses-json<0.6.0,>=0.5.7 in /Users/michielbontenbal/anaconda3/lib/python3.10/site-packages (from langchain) (0.5.7)\n",
      "Requirement already satisfied: PyYAML>=5.4.1 in /Users/michielbontenbal/anaconda3/lib/python3.10/site-packages (from langchain) (6.0)\n",
      "Requirement already satisfied: numpy<2,>=1 in /Users/michielbontenbal/anaconda3/lib/python3.10/site-packages (from langchain) (1.23.5)\n",
      "Requirement already satisfied: pydantic<2,>=1 in /Users/michielbontenbal/anaconda3/lib/python3.10/site-packages (from langchain) (1.10.7)\n",
      "Requirement already satisfied: openapi-schema-pydantic<2.0,>=1.2 in /Users/michielbontenbal/anaconda3/lib/python3.10/site-packages (from langchain) (1.2.4)\n",
      "Requirement already satisfied: requests<3,>=2 in /Users/michielbontenbal/anaconda3/lib/python3.10/site-packages (from langchain) (2.28.1)\n",
      "Requirement already satisfied: SQLAlchemy<2,>=1 in /Users/michielbontenbal/anaconda3/lib/python3.10/site-packages (from langchain) (1.4.39)\n",
      "Requirement already satisfied: tenacity<9.0.0,>=8.1.0 in /Users/michielbontenbal/anaconda3/lib/python3.10/site-packages (from langchain) (8.2.2)\n",
      "Requirement already satisfied: aiohttp<4.0.0,>=3.8.3 in /Users/michielbontenbal/anaconda3/lib/python3.10/site-packages (from langchain) (3.8.4)\n",
      "Requirement already satisfied: async-timeout<5.0.0,>=4.0.0 in /Users/michielbontenbal/anaconda3/lib/python3.10/site-packages (from langchain) (4.0.2)\n",
      "Requirement already satisfied: aiosignal>=1.1.2 in /Users/michielbontenbal/anaconda3/lib/python3.10/site-packages (from aiohttp<4.0.0,>=3.8.3->langchain) (1.3.1)\n",
      "Requirement already satisfied: attrs>=17.3.0 in /Users/michielbontenbal/anaconda3/lib/python3.10/site-packages (from aiohttp<4.0.0,>=3.8.3->langchain) (22.1.0)\n",
      "Requirement already satisfied: frozenlist>=1.1.1 in /Users/michielbontenbal/anaconda3/lib/python3.10/site-packages (from aiohttp<4.0.0,>=3.8.3->langchain) (1.3.3)\n",
      "Requirement already satisfied: charset-normalizer<4.0,>=2.0 in /Users/michielbontenbal/anaconda3/lib/python3.10/site-packages (from aiohttp<4.0.0,>=3.8.3->langchain) (2.0.4)\n",
      "Requirement already satisfied: yarl<2.0,>=1.0 in /Users/michielbontenbal/anaconda3/lib/python3.10/site-packages (from aiohttp<4.0.0,>=3.8.3->langchain) (1.8.2)\n",
      "Requirement already satisfied: multidict<7.0,>=4.5 in /Users/michielbontenbal/anaconda3/lib/python3.10/site-packages (from aiohttp<4.0.0,>=3.8.3->langchain) (6.0.4)\n",
      "Requirement already satisfied: marshmallow-enum<2.0.0,>=1.5.1 in /Users/michielbontenbal/anaconda3/lib/python3.10/site-packages (from dataclasses-json<0.6.0,>=0.5.7->langchain) (1.5.1)\n",
      "Requirement already satisfied: typing-inspect>=0.4.0 in /Users/michielbontenbal/anaconda3/lib/python3.10/site-packages (from dataclasses-json<0.6.0,>=0.5.7->langchain) (0.8.0)\n",
      "Requirement already satisfied: marshmallow<4.0.0,>=3.3.0 in /Users/michielbontenbal/anaconda3/lib/python3.10/site-packages (from dataclasses-json<0.6.0,>=0.5.7->langchain) (3.19.0)\n",
      "Requirement already satisfied: typing-extensions>=4.2.0 in /Users/michielbontenbal/anaconda3/lib/python3.10/site-packages (from pydantic<2,>=1->langchain) (4.4.0)\n",
      "Requirement already satisfied: idna<4,>=2.5 in /Users/michielbontenbal/anaconda3/lib/python3.10/site-packages (from requests<3,>=2->langchain) (3.4)\n",
      "Requirement already satisfied: certifi>=2017.4.17 in /Users/michielbontenbal/anaconda3/lib/python3.10/site-packages (from requests<3,>=2->langchain) (2022.12.7)\n",
      "Requirement already satisfied: urllib3<1.27,>=1.21.1 in /Users/michielbontenbal/anaconda3/lib/python3.10/site-packages (from requests<3,>=2->langchain) (1.26.14)\n",
      "Requirement already satisfied: greenlet!=0.4.17 in /Users/michielbontenbal/anaconda3/lib/python3.10/site-packages (from SQLAlchemy<2,>=1->langchain) (2.0.1)\n",
      "Requirement already satisfied: packaging>=17.0 in /Users/michielbontenbal/anaconda3/lib/python3.10/site-packages (from marshmallow<4.0.0,>=3.3.0->dataclasses-json<0.6.0,>=0.5.7->langchain) (22.0)\n",
      "Requirement already satisfied: mypy-extensions>=0.3.0 in /Users/michielbontenbal/anaconda3/lib/python3.10/site-packages (from typing-inspect>=0.4.0->dataclasses-json<0.6.0,>=0.5.7->langchain) (0.4.3)\n",
      "Requirement already satisfied: openai in /Users/michielbontenbal/anaconda3/lib/python3.10/site-packages (0.27.4)\n",
      "Requirement already satisfied: tqdm in /Users/michielbontenbal/anaconda3/lib/python3.10/site-packages (from openai) (4.64.1)\n",
      "Requirement already satisfied: requests>=2.20 in /Users/michielbontenbal/anaconda3/lib/python3.10/site-packages (from openai) (2.28.1)\n",
      "Requirement already satisfied: aiohttp in /Users/michielbontenbal/anaconda3/lib/python3.10/site-packages (from openai) (3.8.4)\n",
      "Requirement already satisfied: certifi>=2017.4.17 in /Users/michielbontenbal/anaconda3/lib/python3.10/site-packages (from requests>=2.20->openai) (2022.12.7)\n",
      "Requirement already satisfied: charset-normalizer<3,>=2 in /Users/michielbontenbal/anaconda3/lib/python3.10/site-packages (from requests>=2.20->openai) (2.0.4)\n",
      "Requirement already satisfied: idna<4,>=2.5 in /Users/michielbontenbal/anaconda3/lib/python3.10/site-packages (from requests>=2.20->openai) (3.4)\n",
      "Requirement already satisfied: urllib3<1.27,>=1.21.1 in /Users/michielbontenbal/anaconda3/lib/python3.10/site-packages (from requests>=2.20->openai) (1.26.14)\n",
      "Requirement already satisfied: yarl<2.0,>=1.0 in /Users/michielbontenbal/anaconda3/lib/python3.10/site-packages (from aiohttp->openai) (1.8.2)\n",
      "Requirement already satisfied: aiosignal>=1.1.2 in /Users/michielbontenbal/anaconda3/lib/python3.10/site-packages (from aiohttp->openai) (1.3.1)\n",
      "Requirement already satisfied: attrs>=17.3.0 in /Users/michielbontenbal/anaconda3/lib/python3.10/site-packages (from aiohttp->openai) (22.1.0)\n",
      "Requirement already satisfied: frozenlist>=1.1.1 in /Users/michielbontenbal/anaconda3/lib/python3.10/site-packages (from aiohttp->openai) (1.3.3)\n",
      "Requirement already satisfied: multidict<7.0,>=4.5 in /Users/michielbontenbal/anaconda3/lib/python3.10/site-packages (from aiohttp->openai) (6.0.4)\n",
      "Requirement already satisfied: async-timeout<5.0,>=4.0.0a3 in /Users/michielbontenbal/anaconda3/lib/python3.10/site-packages (from aiohttp->openai) (4.0.2)\n",
      "Requirement already satisfied: PyPDF2 in /Users/michielbontenbal/anaconda3/lib/python3.10/site-packages (3.0.1)\n",
      "Requirement already satisfied: faiss-cpu in /Users/michielbontenbal/anaconda3/lib/python3.10/site-packages (1.7.3)\n",
      "Requirement already satisfied: tiktoken in /Users/michielbontenbal/anaconda3/lib/python3.10/site-packages (0.3.3)\n",
      "Requirement already satisfied: regex>=2022.1.18 in /Users/michielbontenbal/anaconda3/lib/python3.10/site-packages (from tiktoken) (2022.7.9)\n",
      "Requirement already satisfied: requests>=2.26.0 in /Users/michielbontenbal/anaconda3/lib/python3.10/site-packages (from tiktoken) (2.28.1)\n",
      "Requirement already satisfied: urllib3<1.27,>=1.21.1 in /Users/michielbontenbal/anaconda3/lib/python3.10/site-packages (from requests>=2.26.0->tiktoken) (1.26.14)\n",
      "Requirement already satisfied: idna<4,>=2.5 in /Users/michielbontenbal/anaconda3/lib/python3.10/site-packages (from requests>=2.26.0->tiktoken) (3.4)\n",
      "Requirement already satisfied: certifi>=2017.4.17 in /Users/michielbontenbal/anaconda3/lib/python3.10/site-packages (from requests>=2.26.0->tiktoken) (2022.12.7)\n",
      "Requirement already satisfied: charset-normalizer<3,>=2 in /Users/michielbontenbal/anaconda3/lib/python3.10/site-packages (from requests>=2.26.0->tiktoken) (2.0.4)\n"
     ]
    }
   ],
   "source": [
    "!pip install langchain\n",
    "!pip install openai\n",
    "!pip install PyPDF2\n",
    "!pip install faiss-cpu\n",
    "!pip install tiktoken"
   ]
  },
  {
   "cell_type": "markdown",
   "metadata": {},
   "source": [
    "## 1. Imports & settings & getting the data"
   ]
  },
  {
   "cell_type": "code",
   "execution_count": 2,
   "metadata": {
    "id": "nq0vKGFeW1KD"
   },
   "outputs": [],
   "source": [
    "#we will do multple imports to get all the settings right.\n",
    "from PyPDF2 import PdfReader\n",
    "#import the embeddings\n",
    "from langchain.embeddings.openai import OpenAIEmbeddings \n",
    "#Textsplitter\n",
    "from langchain.text_splitter import CharacterTextSplitter \n",
    "#Import the vectorstores\n",
    "from langchain.vectorstores import ElasticVectorSearch, Pinecone, Weaviate, FAISS \n",
    "#Import the chains\n",
    "from langchain.chains.question_answering import load_qa_chain\n",
    "#Import the LLM's\n",
    "from langchain.llms import OpenAI\n",
    "#Import the summarizer function\n",
    "from langchain.chains.summarize import load_summarize_chain"
   ]
  },
  {
   "cell_type": "code",
   "execution_count": 3,
   "metadata": {
    "id": "yKaKB_GjWKjL"
   },
   "outputs": [],
   "source": [
    "# Get your API keys from openai, you will need to create a (paid) account. \n",
    "# Here is the link to get the keys: https://platform.openai.com/account/billing/overview\n",
    "#I store my api keys in an config file as well\n",
    "import os\n",
    "import config\n",
    "os.environ[\"OPENAI_API_KEY\"] = config.openai_key"
   ]
  },
  {
   "cell_type": "code",
   "execution_count": 4,
   "metadata": {},
   "outputs": [],
   "source": [
    "# Select OpenAI type embeddings (alternatives are o.a. )\n",
    "embeddings = OpenAIEmbeddings()"
   ]
  },
  {
   "cell_type": "code",
   "execution_count": 4,
   "metadata": {},
   "outputs": [],
   "source": [
    "#setting temperature of the model. Temperature 0 gives a very factual answer and 1 a creative answer.\n",
    "llm = OpenAI(temperature=0.2)"
   ]
  },
  {
   "cell_type": "markdown",
   "metadata": {},
   "source": [
    "## 2. Get the data and split into chunks"
   ]
  },
  {
   "cell_type": "code",
   "execution_count": 1,
   "metadata": {},
   "outputs": [
    {
     "name": "stdout",
     "output_type": "stream",
     "text": [
      "100% [......................................................] 1351521 / 1351521"
     ]
    },
    {
     "data": {
      "text/plain": [
       "'AIA-COM-Proposal-21-April-21.pdf'"
      ]
     },
     "execution_count": 1,
     "metadata": {},
     "output_type": "execute_result"
    }
   ],
   "source": [
    "import wget\n",
    "document = wget.download('https://artificialintelligenceact.eu/wp-content/uploads/2022/05/AIA-COM-Proposal-21-April-21.pdf')\n",
    "document"
   ]
  },
  {
   "cell_type": "code",
   "execution_count": 5,
   "metadata": {
    "id": "NalD3XkQWrJR"
   },
   "outputs": [
    {
     "data": {
      "text/plain": [
       "<PyPDF2._reader.PdfReader at 0x7f81ab4bf400>"
      ]
     },
     "execution_count": 5,
     "metadata": {},
     "output_type": "execute_result"
    }
   ],
   "source": [
    "# Select the .pdf file to read \n",
    "reader = PdfReader('./AIA-COM-Proposal-21-April-21.pdf')\n",
    "reader"
   ]
  },
  {
   "cell_type": "code",
   "execution_count": 6,
   "metadata": {
    "colab": {
     "base_uri": "https://localhost:8080/"
    },
    "id": "SwbEBhd0ZUfX",
    "outputId": "03542b02-bbc2-4c2a-def0-cae133e0b9f9"
   },
   "outputs": [
    {
     "name": "stdout",
     "output_type": "stream",
     "text": [
      "EN   EN \n",
      " \n",
      " \n",
      " EUROPEAN  \n",
      "COMMISSION   \n",
      "Brussels, 21.4.2021  \n",
      "COM(2021) 206 final  \n",
      "2021/0106 (COD)  \n",
      " \n",
      "Proposal for a  \n",
      "REGULATION OF THE EUROPEAN PARLIAMENT AND OF THE COUNCIL  \n",
      "LAYING DOWN HARMONISE\n",
      "--------------------------------------------------\n",
      "The text is 316717 characters\n"
     ]
    }
   ],
   "source": [
    "# read data from the file and put them into a variable called raw_text\n",
    "raw_text = ''\n",
    "for i, page in enumerate(reader.pages):\n",
    "    text = page.extract_text()\n",
    "    if text:\n",
    "        raw_text += text\n",
    "print(raw_text[:200])\n",
    "print(50 * '-')\n",
    "print(f'The text is {len(raw_text)} characters')"
   ]
  },
  {
   "cell_type": "code",
   "execution_count": 7,
   "metadata": {
    "id": "VdXzkpf9XAfP"
   },
   "outputs": [],
   "source": [
    "# We need to split the text that we read into smaller chunks so that during information retreival we don't hit the token size limits. \n",
    "text_splitter = CharacterTextSplitter(        \n",
    "    separator = \"\\n\",\n",
    "    chunk_size = 1000,\n",
    "    chunk_overlap  = 200,\n",
    "    length_function = len,\n",
    ")\n",
    "chunks = text_splitter.split_text(raw_text)"
   ]
  },
  {
   "cell_type": "code",
   "execution_count": 8,
   "metadata": {
    "colab": {
     "base_uri": "https://localhost:8080/"
    },
    "id": "ozkNTiNuZ0TX",
    "outputId": "dd800c23-e6fb-401a-ba22-1bb4a6b7d854"
   },
   "outputs": [
    {
     "data": {
      "text/plain": [
       "401"
      ]
     },
     "execution_count": 8,
     "metadata": {},
     "output_type": "execute_result"
    }
   ],
   "source": [
    "#print the number of chunks\n",
    "len(chunks)"
   ]
  },
  {
   "cell_type": "code",
   "execution_count": 9,
   "metadata": {
    "colab": {
     "base_uri": "https://localhost:8080/",
     "height": 157
    },
    "id": "1SqdR3wFZ3Ih",
    "outputId": "8351feea-aa9a-4092-edfa-9f7a52e231ff"
   },
   "outputs": [
    {
     "data": {
      "text/plain": [
       "'EN   EN \\n \\n \\n EUROPEAN  \\nCOMMISSION   \\nBrussels, 21.4.2021  \\nCOM(2021) 206 final  \\n2021/0106 (COD)  \\n \\nProposal for a  \\nREGULATION OF THE EUROPEAN PARLIAMENT AND OF THE COUNCIL  \\nLAYING DOWN HARMONISED RULES ON ARTIFICIAL INTELLIGENCE \\n(ARTIFICIAL INTELLIGENCE ACT) AND AMENDING CERTAIN UNION \\nLEGISLATIVE ACTS  \\n{SEC(2021)  167 final}  - {SWD(2021)  84 final}  - {SWD(2021)  85 final}   EN 1  EN EXPLANATORY MEMORANDUM  \\n1. CONTEXT  OF THE  PROPOSAL  \\n1.1. Reasons for and objectives of the proposal  \\nThis explanatory memorandum accompanies the proposal for a Regulation laying down \\nharmonised rules on artificial intelligence (Artificial Intelligence Act). Artificial Intelligence \\n(AI) is a fast evolving family of technologies that can bring a wide array of economic and \\nsocietal benefits across the entire s pectrum of industries and social activities. By improving \\nprediction, optimising operations and resource allocation, and personalising service delivery,'"
      ]
     },
     "execution_count": 9,
     "metadata": {},
     "output_type": "execute_result"
    }
   ],
   "source": [
    "#print the first chunk\n",
    "chunks[0]"
   ]
  },
  {
   "cell_type": "code",
   "execution_count": 10,
   "metadata": {},
   "outputs": [],
   "source": [
    "#select the chaintype. The default chain_type=\"stuff\" uses ALL of the text from the documents in the prompt. Expensive!\n",
    "chain = load_qa_chain(OpenAI(), chain_type=\"stuff\")"
   ]
  },
  {
   "cell_type": "markdown",
   "metadata": {},
   "source": [
    "Faiss is a library for efficient similarity search and clustering of dense vectors. It contains algorithms that search in sets of vectors of any size, up to ones that possibly do not fit in RAM. It also contains supporting code for evaluation and parameter tuning.\n",
    "source: https://faiss.ai/"
   ]
  },
  {
   "cell_type": "code",
   "execution_count": 11,
   "metadata": {},
   "outputs": [],
   "source": [
    "#We will use FAISS to do similarity search\n",
    "docsearch = FAISS.from_texts(chunks, embeddings)"
   ]
  },
  {
   "cell_type": "markdown",
   "metadata": {},
   "source": [
    "## 2. Do the Question answering with Langchain"
   ]
  },
  {
   "cell_type": "code",
   "execution_count": 13,
   "metadata": {
    "colab": {
     "base_uri": "https://localhost:8080/",
     "height": 36
    },
    "id": "RahXBIXjXO7X",
    "outputId": "96effd28-e864-4eea-fac0-b450cc04b56a"
   },
   "outputs": [
    {
     "data": {
      "text/plain": [
       "' No, face recognition is not allowed in the EU. Article 5(1), point (d), (2) and (3) of this Regulation adopted on the basis of Article 16 of the TFEU specifically prohibits the use of AI systems for ‘real -time’ remote biometric identification in publicly accessible spaces for the purpose of law enforcement.'"
      ]
     },
     "execution_count": 13,
     "metadata": {},
     "output_type": "execute_result"
    }
   ],
   "source": [
    "question = \"Is face recognition allowed in the EU?\"\n",
    "docs = docsearch.similarity_search(question)\n",
    "chain.run(input_documents=docs, question=question)"
   ]
  },
  {
   "cell_type": "code",
   "execution_count": 25,
   "metadata": {
    "id": "qLynnMo0cj8m"
   },
   "outputs": [
    {
     "data": {
      "text/plain": [
       "\" Capt. Koons, a friend of Butch's father, gives Butch a watch that was passed down from his father. Butch is a 27-year-old boxer preparing for a big fight. He is shaken by the memory of the watch and is helped into his boxing robe by his trainer Klondike. As Butch steps into the hallway, the crowd goes wild. Later, Butch finds a submachine gun on his kitchen counter and is surprised by Vincent Vega coming out of the bathroom. Capt. Koons then explains to Butch that he is responsible for passing down his father's watch.\""
      ]
     },
     "execution_count": 25,
     "metadata": {},
     "output_type": "execute_result"
    }
   ],
   "source": [
    "question = \"Who is Butch Coolidge? \"\n",
    "docs = docsearch.similarity_search(question)\n",
    "chain.run(input_documents=docs, question=question)"
   ]
  },
  {
   "cell_type": "code",
   "execution_count": 27,
   "metadata": {},
   "outputs": [
    {
     "data": {
      "text/plain": [
       "' Vincent and Mia share a joke, but neither of them laugh. Mia then tells a joke about three tomatoes walking down the street, and they both smile. Vincent then blows Mia a kiss as she walks inside her house. Meanwhile, Lance is watching the Three Stooges on TV when the phone rings. His wife, Jody, wakes up and scolds him for letting people call late. Lance answers the phone and Jimmie and Jules have a conversation about a dead nigger in the garage. Finally, Butch is stopped at a light when he sees Marsellus Wallace crossing the street in front of him. Butch quickly drives away.'"
      ]
     },
     "execution_count": 27,
     "metadata": {},
     "output_type": "execute_result"
    }
   ],
   "source": [
    "question = \"What is the joke about the tomato? \"\n",
    "docs = docsearch.similarity_search(question)\n",
    "chain.run(input_documents=docs, question=question)"
   ]
  },
  {
   "cell_type": "code",
   "execution_count": 28,
   "metadata": {},
   "outputs": [
    {
     "data": {
      "text/plain": [
       "' Mia and Vincent dance to Chuck Berry\\'s \"YOU NEVER CAN TELL\" and then stand face to face looking at each other. Mia moves away to attend to music and drinks while Vincent goes to the bathroom. Mia then selects a CD and dances to it. Vincent and Mia then enter a dance competition and dance to Chuck Berry\\'s song. After the competition, Mia and Vincent agree to keep the incident a secret and shake on it. Vincent then leaves to go home.'"
      ]
     },
     "execution_count": 28,
     "metadata": {},
     "output_type": "execute_result"
    }
   ],
   "source": [
    "question = \"How do Vincent and Mia dance? \"\n",
    "docs = docsearch.similarity_search(question)\n",
    "chain.run(input_documents=docs, question=question)"
   ]
  },
  {
   "cell_type": "code",
   "execution_count": 24,
   "metadata": {},
   "outputs": [
    {
     "data": {
      "text/plain": [
       "' Ezekiel 25:17: \"The path of the righteous man is beset on all sides by the inequities of the selfish and the tyranny of evil men. Blessed is he who, in the name of charity and good will, shepherds the weak through the valley of darkness, for he is truly his brother\\'s keeper and the finder of lost children. And I will strike down upon thee with great vengeance and furious anger those who attempt to poison and destroy my brothers. And you will know my name is the Lord when I lay my vengeance upon you.\"'"
      ]
     },
     "execution_count": 24,
     "metadata": {},
     "output_type": "execute_result"
    }
   ],
   "source": [
    "question = \"What Bible verse is mentioned?  \"\n",
    "docs = docsearch.similarity_search(question)\n",
    "chain.run(input_documents=docs, question=question)"
   ]
  },
  {
   "cell_type": "code",
   "execution_count": null,
   "metadata": {},
   "outputs": [],
   "source": []
  }
 ],
 "metadata": {
  "colab": {
   "provenance": []
  },
  "gpuClass": "standard",
  "kernelspec": {
   "display_name": "Python 3 (ipykernel)",
   "language": "python",
   "name": "python3"
  },
  "language_info": {
   "codemirror_mode": {
    "name": "ipython",
    "version": 3
   },
   "file_extension": ".py",
   "mimetype": "text/x-python",
   "name": "python",
   "nbconvert_exporter": "python",
   "pygments_lexer": "ipython3",
   "version": "3.10.9"
  }
 },
 "nbformat": 4,
 "nbformat_minor": 1
}
