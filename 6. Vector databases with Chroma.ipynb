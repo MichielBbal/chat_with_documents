{
 "cells": [
  {
   "cell_type": "markdown",
   "id": "f5141bb1",
   "metadata": {},
   "source": [
    "# Vector databases with Chroma\n",
    "\n",
    "\n",
    "We will use semantic search. Semantic search denotes search with meaning, as distinguished from lexical search where the search engine looks for literal matches of the query words or variants of them, without understanding the overall meaning of the query\n",
    "\n",
    "\n",
    "### Sources\n",
    "- Pypi: https://pypi.org/project/chromadb/\n",
    "- GitHub: https://github.com/chroma-core/chroma\n",
    "- Blog: https://blog.langchain.dev/langchain-chroma/\n",
    "- Getting started: https://docs.trychroma.com/getting-started\n",
    "- Semantic Search: https://en.wikipedia.org/wiki/Semantic_search\n",
    "\n",
    "### Contents\n",
    "0. Install packages\n",
    "1. Getting started with chromadb"
   ]
  },
  {
   "cell_type": "markdown",
   "id": "ee8c386a",
   "metadata": {},
   "source": [
    "## 0. Install packages"
   ]
  },
  {
   "cell_type": "code",
   "execution_count": 14,
   "id": "93ba24f6",
   "metadata": {},
   "outputs": [
    {
     "name": "stdout",
     "output_type": "stream",
     "text": [
      "huggingface/tokenizers: The current process just got forked, after parallelism has already been used. Disabling parallelism to avoid deadlocks...\n",
      "To disable this warning, you can either:\n",
      "\t- Avoid using `tokenizers` before the fork if possible\n",
      "\t- Explicitly set the environment variable TOKENIZERS_PARALLELISM=(true | false)\n",
      "Requirement already satisfied: chromadb in /Users/michielbontenbal/anaconda3/lib/python3.10/site-packages (0.3.21)\n",
      "Requirement already satisfied: duckdb>=0.7.1 in /Users/michielbontenbal/anaconda3/lib/python3.10/site-packages (from chromadb) (0.7.1)\n",
      "Requirement already satisfied: posthog>=2.4.0 in /Users/michielbontenbal/anaconda3/lib/python3.10/site-packages (from chromadb) (2.4.2)\n",
      "Requirement already satisfied: sentence-transformers>=2.2.2 in /Users/michielbontenbal/anaconda3/lib/python3.10/site-packages (from chromadb) (2.2.2)\n",
      "Requirement already satisfied: clickhouse-connect>=0.5.7 in /Users/michielbontenbal/anaconda3/lib/python3.10/site-packages (from chromadb) (0.5.20)\n",
      "Requirement already satisfied: numpy>=1.21.6 in /Users/michielbontenbal/anaconda3/lib/python3.10/site-packages (from chromadb) (1.24.2)\n",
      "Requirement already satisfied: fastapi>=0.85.1 in /Users/michielbontenbal/anaconda3/lib/python3.10/site-packages (from chromadb) (0.95.0)\n",
      "Requirement already satisfied: uvicorn[standard]>=0.18.3 in /Users/michielbontenbal/anaconda3/lib/python3.10/site-packages (from chromadb) (0.21.1)\n",
      "Requirement already satisfied: pandas>=1.3 in /Users/michielbontenbal/anaconda3/lib/python3.10/site-packages (from chromadb) (1.5.3)\n",
      "Requirement already satisfied: hnswlib>=0.7 in /Users/michielbontenbal/anaconda3/lib/python3.10/site-packages (from chromadb) (0.7.0)\n",
      "Requirement already satisfied: requests>=2.28 in /Users/michielbontenbal/anaconda3/lib/python3.10/site-packages (from chromadb) (2.28.1)\n",
      "Requirement already satisfied: pydantic>=1.9 in /Users/michielbontenbal/anaconda3/lib/python3.10/site-packages (from chromadb) (1.10.7)\n",
      "Requirement already satisfied: urllib3>=1.26 in /Users/michielbontenbal/anaconda3/lib/python3.10/site-packages (from clickhouse-connect>=0.5.7->chromadb) (1.26.14)\n",
      "Requirement already satisfied: pytz in /Users/michielbontenbal/anaconda3/lib/python3.10/site-packages (from clickhouse-connect>=0.5.7->chromadb) (2022.7)\n",
      "Requirement already satisfied: zstandard in /Users/michielbontenbal/anaconda3/lib/python3.10/site-packages (from clickhouse-connect>=0.5.7->chromadb) (0.19.0)\n",
      "Requirement already satisfied: certifi in /Users/michielbontenbal/anaconda3/lib/python3.10/site-packages (from clickhouse-connect>=0.5.7->chromadb) (2022.12.7)\n",
      "Requirement already satisfied: lz4 in /Users/michielbontenbal/anaconda3/lib/python3.10/site-packages (from clickhouse-connect>=0.5.7->chromadb) (3.1.3)\n",
      "Requirement already satisfied: starlette<0.27.0,>=0.26.1 in /Users/michielbontenbal/anaconda3/lib/python3.10/site-packages (from fastapi>=0.85.1->chromadb) (0.26.1)\n",
      "Requirement already satisfied: python-dateutil>=2.8.1 in /Users/michielbontenbal/anaconda3/lib/python3.10/site-packages (from pandas>=1.3->chromadb) (2.8.2)\n",
      "Requirement already satisfied: backoff>=1.10.0 in /Users/michielbontenbal/anaconda3/lib/python3.10/site-packages (from posthog>=2.4.0->chromadb) (2.2.1)\n",
      "Requirement already satisfied: six>=1.5 in /Users/michielbontenbal/anaconda3/lib/python3.10/site-packages (from posthog>=2.4.0->chromadb) (1.16.0)\n",
      "Requirement already satisfied: monotonic>=1.5 in /Users/michielbontenbal/anaconda3/lib/python3.10/site-packages (from posthog>=2.4.0->chromadb) (1.6)\n",
      "Requirement already satisfied: typing-extensions>=4.2.0 in /Users/michielbontenbal/anaconda3/lib/python3.10/site-packages (from pydantic>=1.9->chromadb) (4.4.0)\n",
      "Requirement already satisfied: idna<4,>=2.5 in /Users/michielbontenbal/anaconda3/lib/python3.10/site-packages (from requests>=2.28->chromadb) (3.4)\n",
      "Requirement already satisfied: charset-normalizer<3,>=2 in /Users/michielbontenbal/anaconda3/lib/python3.10/site-packages (from requests>=2.28->chromadb) (2.0.4)\n",
      "Requirement already satisfied: transformers<5.0.0,>=4.6.0 in /Users/michielbontenbal/anaconda3/lib/python3.10/site-packages (from sentence-transformers>=2.2.2->chromadb) (4.24.0)\n",
      "Requirement already satisfied: huggingface-hub>=0.4.0 in /Users/michielbontenbal/anaconda3/lib/python3.10/site-packages (from sentence-transformers>=2.2.2->chromadb) (0.13.3)\n",
      "Requirement already satisfied: tqdm in /Users/michielbontenbal/anaconda3/lib/python3.10/site-packages (from sentence-transformers>=2.2.2->chromadb) (4.64.1)\n",
      "Requirement already satisfied: scipy in /Users/michielbontenbal/anaconda3/lib/python3.10/site-packages (from sentence-transformers>=2.2.2->chromadb) (1.10.0)\n",
      "Requirement already satisfied: torch>=1.6.0 in /Users/michielbontenbal/anaconda3/lib/python3.10/site-packages (from sentence-transformers>=2.2.2->chromadb) (2.0.0)\n",
      "Requirement already satisfied: sentencepiece in /Users/michielbontenbal/anaconda3/lib/python3.10/site-packages (from sentence-transformers>=2.2.2->chromadb) (0.1.97)\n",
      "Requirement already satisfied: scikit-learn in /Users/michielbontenbal/anaconda3/lib/python3.10/site-packages (from sentence-transformers>=2.2.2->chromadb) (1.2.1)\n",
      "Requirement already satisfied: nltk in /Users/michielbontenbal/anaconda3/lib/python3.10/site-packages (from sentence-transformers>=2.2.2->chromadb) (3.7)\n",
      "Requirement already satisfied: torchvision in /Users/michielbontenbal/anaconda3/lib/python3.10/site-packages (from sentence-transformers>=2.2.2->chromadb) (0.15.1)\n",
      "Requirement already satisfied: h11>=0.8 in /Users/michielbontenbal/anaconda3/lib/python3.10/site-packages (from uvicorn[standard]>=0.18.3->chromadb) (0.14.0)\n",
      "Requirement already satisfied: click>=7.0 in /Users/michielbontenbal/anaconda3/lib/python3.10/site-packages (from uvicorn[standard]>=0.18.3->chromadb) (8.0.4)\n",
      "Requirement already satisfied: pyyaml>=5.1 in /Users/michielbontenbal/anaconda3/lib/python3.10/site-packages (from uvicorn[standard]>=0.18.3->chromadb) (6.0)\n",
      "Requirement already satisfied: websockets>=10.4 in /Users/michielbontenbal/anaconda3/lib/python3.10/site-packages (from uvicorn[standard]>=0.18.3->chromadb) (11.0.1)\n",
      "Requirement already satisfied: watchfiles>=0.13 in /Users/michielbontenbal/anaconda3/lib/python3.10/site-packages (from uvicorn[standard]>=0.18.3->chromadb) (0.19.0)\n",
      "Requirement already satisfied: uvloop!=0.15.0,!=0.15.1,>=0.14.0 in /Users/michielbontenbal/anaconda3/lib/python3.10/site-packages (from uvicorn[standard]>=0.18.3->chromadb) (0.17.0)\n",
      "Requirement already satisfied: python-dotenv>=0.13 in /Users/michielbontenbal/anaconda3/lib/python3.10/site-packages (from uvicorn[standard]>=0.18.3->chromadb) (1.0.0)\n",
      "Requirement already satisfied: httptools>=0.5.0 in /Users/michielbontenbal/anaconda3/lib/python3.10/site-packages (from uvicorn[standard]>=0.18.3->chromadb) (0.5.0)\n",
      "Requirement already satisfied: packaging>=20.9 in /Users/michielbontenbal/anaconda3/lib/python3.10/site-packages (from huggingface-hub>=0.4.0->sentence-transformers>=2.2.2->chromadb) (22.0)\n",
      "Requirement already satisfied: filelock in /Users/michielbontenbal/anaconda3/lib/python3.10/site-packages (from huggingface-hub>=0.4.0->sentence-transformers>=2.2.2->chromadb) (3.9.0)\n",
      "Requirement already satisfied: anyio<5,>=3.4.0 in /Users/michielbontenbal/anaconda3/lib/python3.10/site-packages (from starlette<0.27.0,>=0.26.1->fastapi>=0.85.1->chromadb) (3.5.0)\n",
      "Requirement already satisfied: networkx in /Users/michielbontenbal/anaconda3/lib/python3.10/site-packages (from torch>=1.6.0->sentence-transformers>=2.2.2->chromadb) (2.8.4)\n",
      "Requirement already satisfied: jinja2 in /Users/michielbontenbal/anaconda3/lib/python3.10/site-packages (from torch>=1.6.0->sentence-transformers>=2.2.2->chromadb) (3.1.2)\n",
      "Requirement already satisfied: sympy in /Users/michielbontenbal/anaconda3/lib/python3.10/site-packages (from torch>=1.6.0->sentence-transformers>=2.2.2->chromadb) (1.11.1)\n",
      "Requirement already satisfied: tokenizers!=0.11.3,<0.14,>=0.11.1 in /Users/michielbontenbal/anaconda3/lib/python3.10/site-packages (from transformers<5.0.0,>=4.6.0->sentence-transformers>=2.2.2->chromadb) (0.11.4)\n",
      "Requirement already satisfied: regex!=2019.12.17 in /Users/michielbontenbal/anaconda3/lib/python3.10/site-packages (from transformers<5.0.0,>=4.6.0->sentence-transformers>=2.2.2->chromadb) (2022.7.9)\n"
     ]
    },
    {
     "name": "stdout",
     "output_type": "stream",
     "text": [
      "Requirement already satisfied: joblib in /Users/michielbontenbal/anaconda3/lib/python3.10/site-packages (from nltk->sentence-transformers>=2.2.2->chromadb) (1.1.1)\n",
      "Requirement already satisfied: threadpoolctl>=2.0.0 in /Users/michielbontenbal/anaconda3/lib/python3.10/site-packages (from scikit-learn->sentence-transformers>=2.2.2->chromadb) (2.2.0)\n",
      "Requirement already satisfied: pillow!=8.3.*,>=5.3.0 in /Users/michielbontenbal/anaconda3/lib/python3.10/site-packages (from torchvision->sentence-transformers>=2.2.2->chromadb) (9.4.0)\n",
      "Requirement already satisfied: sniffio>=1.1 in /Users/michielbontenbal/anaconda3/lib/python3.10/site-packages (from anyio<5,>=3.4.0->starlette<0.27.0,>=0.26.1->fastapi>=0.85.1->chromadb) (1.2.0)\n",
      "Requirement already satisfied: MarkupSafe>=2.0 in /Users/michielbontenbal/anaconda3/lib/python3.10/site-packages (from jinja2->torch>=1.6.0->sentence-transformers>=2.2.2->chromadb) (2.1.1)\n",
      "Requirement already satisfied: mpmath>=0.19 in /Users/michielbontenbal/anaconda3/lib/python3.10/site-packages/mpmath-1.2.1-py3.10.egg (from sympy->torch>=1.6.0->sentence-transformers>=2.2.2->chromadb) (1.2.1)\n"
     ]
    }
   ],
   "source": [
    "!pip install chromadb"
   ]
  },
  {
   "cell_type": "markdown",
   "id": "4686dd73",
   "metadata": {},
   "source": [
    "## 1. Getting started with chromadb"
   ]
  },
  {
   "cell_type": "code",
   "execution_count": 2,
   "id": "b597d00d",
   "metadata": {},
   "outputs": [
    {
     "name": "stderr",
     "output_type": "stream",
     "text": [
      "Using embedded DuckDB without persistence: data will be transient\n"
     ]
    }
   ],
   "source": [
    "#create a client\n",
    "import chromadb\n",
    "chroma_client = chromadb.Client()"
   ]
  },
  {
   "cell_type": "code",
   "execution_count": 3,
   "id": "eaa963f1",
   "metadata": {},
   "outputs": [
    {
     "name": "stderr",
     "output_type": "stream",
     "text": [
      "No embedding_function provided, using default embedding function: SentenceTransformerEmbeddingFunction\n"
     ]
    }
   ],
   "source": [
    "#create a collection\n",
    "collection = chroma_client.create_collection(name=\"my_collection\")"
   ]
  },
  {
   "cell_type": "markdown",
   "id": "46ca8b1e",
   "metadata": {},
   "source": [
    "## 2. Downloading data\n",
    "We will use Quentin Tarantino filmscripts"
   ]
  },
  {
   "cell_type": "code",
   "execution_count": 5,
   "id": "fd21bd8e",
   "metadata": {},
   "outputs": [
    {
     "name": "stdout",
     "output_type": "stream",
     "text": [
      "\r",
      "  0% [                                                        ]      0 / 147913\r",
      "  5% [...                                                     ]   8192 / 147913\r",
      " 11% [......                                                  ]  16384 / 147913\r",
      " 16% [.........                                               ]  24576 / 147913\r",
      " 22% [............                                            ]  32768 / 147913\r",
      " 27% [...............                                         ]  40960 / 147913\r",
      " 33% [..................                                      ]  49152 / 147913\r",
      " 38% [.....................                                   ]  57344 / 147913\r",
      " 44% [........................                                ]  65536 / 147913\r",
      " 49% [...........................                             ]  73728 / 147913\r",
      " 55% [...............................                         ]  81920 / 147913\r",
      " 60% [..................................                      ]  90112 / 147913\r",
      " 66% [.....................................                   ]  98304 / 147913\r",
      " 71% [........................................                ] 106496 / 147913\r",
      " 77% [...........................................             ] 114688 / 147913\r",
      " 83% [..............................................          ] 122880 / 147913\r",
      " 88% [.................................................       ] 131072 / 147913\r",
      " 94% [....................................................    ] 139264 / 147913\r",
      " 99% [....................................................... ] 147456 / 147913\r",
      "100% [........................................................] 147913 / 147913"
     ]
    }
   ],
   "source": [
    "import wget\n",
    "pulp_fiction=wget.download('https://assets.scriptslug.com/live/pdf/scripts/pulp-fiction-1994.pdf')\n",
    "res_dogs = wget.download('https://assets.scriptslug.com/live/pdf/scripts/reservoir-dogs-1992.pdf')\n",
    "jackie_brown = wget.download('https://assets.scriptslug.com/live/pdf/scripts/jackie-brown-1997.pdf')"
   ]
  },
  {
   "cell_type": "code",
   "execution_count": 4,
   "id": "feb90e0a",
   "metadata": {},
   "outputs": [
    {
     "data": {
      "text/plain": [
       "['temp.pdf']"
      ]
     },
     "execution_count": 4,
     "metadata": {},
     "output_type": "execute_result"
    }
   ],
   "source": [
    "import glob\n",
    "my_pdfs = glob.glob('*.pdf')\n",
    "my_pdfs"
   ]
  },
  {
   "cell_type": "code",
   "execution_count": 5,
   "id": "e4369214",
   "metadata": {},
   "outputs": [],
   "source": [
    "collection.add(\n",
    "    \n",
    "    documents=[\"./PDF/pulp-fiction-1994.pdf\", \"./PDF/jackie-brown-1997.pdf\",\"./PDF/reservoir-dogs-1992.pdf\"],\n",
    "    metadatas=[{\"source\": \"PF\"}, {\"source\": \"JB\"}, {\"source\": \"RD\"}],\n",
    "    ids=[\"id1\", \"id2\", \"id3\"]\n",
    ")"
   ]
  },
  {
   "cell_type": "code",
   "execution_count": 10,
   "id": "34ca0cbe",
   "metadata": {},
   "outputs": [
    {
     "data": {
      "text/plain": [
       "Collection(name=my_collection)"
      ]
     },
     "execution_count": 10,
     "metadata": {},
     "output_type": "execute_result"
    }
   ],
   "source": [
    "collection"
   ]
  },
  {
   "cell_type": "code",
   "execution_count": 12,
   "id": "b138c198",
   "metadata": {},
   "outputs": [],
   "source": [
    "results = collection.query(\n",
    "    query_texts=[\"Who is Jackie Brown\"],\n",
    "    n_results=3\n",
    ")"
   ]
  },
  {
   "cell_type": "code",
   "execution_count": 13,
   "id": "d03dd8f7",
   "metadata": {},
   "outputs": [
    {
     "data": {
      "text/plain": [
       "{'ids': [['id2', 'id1', 'id3']],\n",
       " 'embeddings': None,\n",
       " 'documents': [['./PDF/jackie-brown-1997.pdf',\n",
       "   './PDF/pulp-fiction-1994.pdf',\n",
       "   './PDF/reservoir-dogs-1992.pdf']],\n",
       " 'metadatas': [[{'source': 'JB'}, {'source': 'PF'}, {'source': 'RD'}]],\n",
       " 'distances': [[0.6908745765686035, 1.7246296405792236, 1.7879161834716797]]}"
      ]
     },
     "execution_count": 13,
     "metadata": {},
     "output_type": "execute_result"
    }
   ],
   "source": [
    "results"
   ]
  },
  {
   "cell_type": "code",
   "execution_count": null,
   "id": "ec069853",
   "metadata": {},
   "outputs": [],
   "source": []
  }
 ],
 "metadata": {
  "kernelspec": {
   "display_name": "Python 3 (ipykernel)",
   "language": "python",
   "name": "python3"
  },
  "language_info": {
   "codemirror_mode": {
    "name": "ipython",
    "version": 3
   },
   "file_extension": ".py",
   "mimetype": "text/x-python",
   "name": "python",
   "nbconvert_exporter": "python",
   "pygments_lexer": "ipython3",
   "version": "3.10.9"
  }
 },
 "nbformat": 4,
 "nbformat_minor": 5
}
