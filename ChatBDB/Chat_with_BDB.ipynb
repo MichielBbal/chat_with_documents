{
 "cells": [
  {
   "cell_type": "markdown",
   "metadata": {
    "id": "7AnZQpL_IZZZ"
   },
   "source": [
    "# Chat with BDB\n",
    "\n",
    "\n",
    "### Sources\n",
    "Video: https://www.youtube.com/watch?v=3yPBVii7Ct0\n",
    "Adapted from: https://colab.research.google.com/drive/1gyGZn_LZNrYXYXa-pltFExbptIe7DAPe?usp=sharing#scrollTo=XHVE9uFb3Ajj\n",
    "\n",
    "### Contents\n",
    "1. Setting up\n",
    "2. Load txt documents\n",
    "3."
   ]
  },
  {
   "cell_type": "markdown",
   "metadata": {
    "id": "HqwsGJDhvAQ5"
   },
   "source": [
    "## 1. Setting up\n"
   ]
  },
  {
   "cell_type": "code",
   "execution_count": 1,
   "metadata": {
    "colab": {
     "base_uri": "https://localhost:8080/"
    },
    "id": "J-KFB7J_u_3L",
    "outputId": "a29ed872-d0bc-41ef-bb72-b6a0fe426a08"
   },
   "outputs": [
    {
     "name": "stdout",
     "output_type": "stream",
     "text": [
      "Name: langchain\n",
      "Version: 0.0.136\n",
      "Summary: Building applications with LLMs through composability\n",
      "Home-page: https://www.github.com/hwchase17/langchain\n",
      "Author: \n",
      "Author-email: \n",
      "License: MIT\n",
      "Location: /Users/michielbontenbal/anaconda3/lib/python3.10/site-packages\n",
      "Requires: aiohttp, async-timeout, dataclasses-json, numpy, openapi-schema-pydantic, pydantic, PyYAML, requests, SQLAlchemy, tenacity\n",
      "Required-by: \n"
     ]
    }
   ],
   "source": [
    "!pip show langchain"
   ]
  },
  {
   "cell_type": "code",
   "execution_count": 13,
   "metadata": {
    "id": "dNA4TsHpu6OM"
   },
   "outputs": [],
   "source": [
    "import os\n",
    "import config\n",
    "os.environ[\"OPENAI_API_KEY\"] = config.openai_key"
   ]
  },
  {
   "cell_type": "code",
   "execution_count": 14,
   "metadata": {
    "id": "XHVE9uFb3Ajj"
   },
   "outputs": [],
   "source": [
    "from langchain.vectorstores import Chroma\n",
    "from langchain.embeddings import OpenAIEmbeddings\n",
    "from langchain.text_splitter import RecursiveCharacterTextSplitter\n",
    "from langchain.llms import OpenAI\n",
    "from langchain.chains import RetrievalQA\n",
    "from langchain.document_loaders import TextLoader\n",
    "from langchain.document_loaders import DirectoryLoader"
   ]
  },
  {
   "cell_type": "markdown",
   "metadata": {
    "id": "9UcQKUId3X2M"
   },
   "source": [
    "## 2. Load multiple .pdf documents, convert to text and split into chunks"
   ]
  },
  {
   "cell_type": "code",
   "execution_count": 15,
   "metadata": {},
   "outputs": [
    {
     "data": {
      "text/plain": [
       "'/Users/michielbontenbal/Documents/GitHub/chat_with_documents/ChatBDB'"
      ]
     },
     "execution_count": 15,
     "metadata": {},
     "output_type": "execute_result"
    }
   ],
   "source": [
    "pwd"
   ]
  },
  {
   "cell_type": "code",
   "execution_count": 1,
   "metadata": {},
   "outputs": [
    {
     "name": "stdout",
     "output_type": "stream",
     "text": [
      "./Wijze_Lessen_digitaal_160919.pdf\r\n",
      "./Handout BDB bijeenkomst 9 Onderwijsontwerp - Groep W2 (Erwin) - 19 april 2023 (1).pdf\r\n",
      "./Strategie 4 Activeren van studenten als belangrijke informatiebronnen voor elkaar.pdf\r\n",
      "./Hoge verwachtingen voor elke leerling_ je sterkste wapen tegen ongelijkheid – Klasse.pdf\r\n",
      "./Handout BDB Bijeenkomst 7 - Groep W2 Erwin - 5 april 2023.pdf\r\n",
      "./Handout Wijze lessen 12 bouwstenen voor effectieve didactiek1.pdf\r\n",
      "./HvA-infographic-onderwijs-toetsbeleid.pdf\r\n",
      "./Five_Key_Strategies_for_Effective_Formative_Assessment.pdf\r\n",
      "./Sluijsmans (2020).pdf\r\n",
      "./Didactisch Coachen. Lia Voerman en Frans Faber.pdf\r\n",
      "./Strategie 1 Verhelderen en begrijpen van leerdoelen.pdf\r\n",
      "./Strategie 2 Realiseren van effectieve taken, discussies en activiteiten die het leren zichtbaar maken.pdf\r\n",
      "./Handout BDB bijeenkomst 9 Onderwijsontwerp - Groep W2 (Erwin) - 19 april 2023.pdf\r\n",
      "./Handout BDB Bijeenkomst 8 - Groep W2 Erwin - 12 april  2023.pdf\r\n",
      "./Strategie 5 Activeren van studenten in het stimuleren van eigenaarschap.pdf\r\n",
      "./Strategie 3 Feedback en feedforward geven gericht op verder leren.pdf\r\n"
     ]
    }
   ],
   "source": [
    "!find . -type f -name \"*.pdf\""
   ]
  },
  {
   "cell_type": "code",
   "execution_count": 3,
   "metadata": {},
   "outputs": [
    {
     "data": {
      "text/plain": [
       "['Wijze_Lessen_digitaal_160919.pdf',\n",
       " 'Handout BDB bijeenkomst 9 Onderwijsontwerp - Groep W2 (Erwin) - 19 april 2023 (1).pdf',\n",
       " 'Strategie 4 Activeren van studenten als belangrijke informatiebronnen voor elkaar.pdf',\n",
       " 'Hoge verwachtingen voor elke leerling_ je sterkste wapen tegen ongelijkheid – Klasse.pdf',\n",
       " 'Handout BDB Bijeenkomst 7 - Groep W2 Erwin - 5 april 2023.pdf',\n",
       " 'Handout Wijze lessen 12 bouwstenen voor effectieve didactiek1.pdf',\n",
       " 'HvA-infographic-onderwijs-toetsbeleid.pdf',\n",
       " 'Five_Key_Strategies_for_Effective_Formative_Assessment.pdf',\n",
       " 'Sluijsmans (2020).pdf',\n",
       " 'Didactisch Coachen. Lia Voerman en Frans Faber.pdf',\n",
       " 'Strategie 1 Verhelderen en begrijpen van leerdoelen.pdf',\n",
       " 'Strategie 2 Realiseren van effectieve taken, discussies en activiteiten die het leren zichtbaar maken.pdf',\n",
       " 'Handout BDB bijeenkomst 9 Onderwijsontwerp - Groep W2 (Erwin) - 19 april 2023.pdf',\n",
       " 'Handout BDB Bijeenkomst 8 - Groep W2 Erwin - 12 april  2023.pdf',\n",
       " 'Strategie 5 Activeren van studenten in het stimuleren van eigenaarschap.pdf',\n",
       " 'Strategie 3 Feedback en feedforward geven gericht op verder leren.pdf']"
      ]
     },
     "execution_count": 3,
     "metadata": {},
     "output_type": "execute_result"
    }
   ],
   "source": [
    "from glob import glob\n",
    "\n",
    "my_pdfs = glob('*.pdf')\n",
    "my_pdfs"
   ]
  },
  {
   "cell_type": "code",
   "execution_count": 9,
   "metadata": {},
   "outputs": [],
   "source": [
    "#THE one script to make one long txt file (by adding all pages to the text file)\n",
    "from PyPDF2 import PdfReader\n",
    "from glob import glob\n",
    "import os\n",
    "\n",
    "my_pdfs = glob('*.pdf')\n",
    "\n",
    "for i in range(len(my_pdfs)):\n",
    "    reader = PdfReader(my_pdfs[i])\n",
    "    number_of_pages = len(reader.pages)\n",
    "    file_name, file_extension = os.path.splitext(my_pdfs[i])\n",
    "    textfile = open(file_name+\".txt\", \"w\")\n",
    "\n",
    "    for j in range (number_of_pages):\n",
    "        page = reader.pages[j]\n",
    "        textfile.write(page.extract_text())\n",
    "        textfile.write('}\\n')\n",
    "    textfile.close() "
   ]
  },
  {
   "cell_type": "code",
   "execution_count": 16,
   "metadata": {},
   "outputs": [
    {
     "name": "stdout",
     "output_type": "stream",
     "text": [
      "./Handout Wijze lessen 12 bouwstenen voor effectieve didactiek1.txt\r\n",
      "./HvA-infographic-onderwijs-toetsbeleid.txt\r\n",
      "./Handout BDB Bijeenkomst 7 - Groep W2 Erwin - 5 april 2023.txt\r\n",
      "./Hoge verwachtingen voor elke leerling_ je sterkste wapen tegen ongelijkheid – Klasse.txt\r\n",
      "./Five_Key_Strategies_for_Effective_Formative_Assessment.txt\r\n",
      "./Sluijsmans (2020).txt\r\n",
      "./Didactisch Coachen. Lia Voerman en Frans Faber.txt\r\n",
      "./Wijze_Lessen_digitaal_160919.txt\r\n",
      "./Handout BDB bijeenkomst 9 Onderwijsontwerp - Groep W2 (Erwin) - 19 april 2023 (1).txt\r\n",
      "./Strategie 4 Activeren van studenten als belangrijke informatiebronnen voor elkaar.txt\r\n",
      "./Strategie 5 Activeren van studenten in het stimuleren van eigenaarschap.txt\r\n",
      "./Strategie 3 Feedback en feedforward geven gericht op verder leren.txt\r\n",
      "./Strategie 2 Realiseren van effectieve taken, discussies en activiteiten die het leren zichtbaar maken.txt\r\n",
      "./Handout BDB bijeenkomst 9 Onderwijsontwerp - Groep W2 (Erwin) - 19 april 2023.txt\r\n",
      "./Strategie 1 Verhelderen en begrijpen van leerdoelen.txt\r\n",
      "./Handout BDB Bijeenkomst 8 - Groep W2 Erwin - 12 april  2023.txt\r\n"
     ]
    }
   ],
   "source": [
    "!find . -type f -name \"*.txt\""
   ]
  },
  {
   "cell_type": "code",
   "execution_count": 17,
   "metadata": {
    "id": "PRSeXXc_3Ypj"
   },
   "outputs": [],
   "source": [
    "# Load and process the text files\n",
    "# loader = TextLoader('single_text_file.txt')\n",
    "loader = DirectoryLoader('', glob=\"./*.txt\", loader_cls=TextLoader)\n",
    "\n",
    "documents = loader.load()"
   ]
  },
  {
   "cell_type": "code",
   "execution_count": 18,
   "metadata": {
    "id": "3__nT0D4Fkmg"
   },
   "outputs": [],
   "source": [
    "#splitting the text into\n",
    "text_splitter = RecursiveCharacterTextSplitter(chunk_size=1000, chunk_overlap=200)\n",
    "texts = text_splitter.split_documents(documents)"
   ]
  },
  {
   "cell_type": "code",
   "execution_count": 19,
   "metadata": {
    "colab": {
     "base_uri": "https://localhost:8080/"
    },
    "id": "TlU5AlqY4gwj",
    "outputId": "d78fb098-3161-42cd-8ce9-5f98f4ef91d2"
   },
   "outputs": [
    {
     "data": {
      "text/plain": [
       "605"
      ]
     },
     "execution_count": 19,
     "metadata": {},
     "output_type": "execute_result"
    }
   ],
   "source": [
    "len(texts)"
   ]
  },
  {
   "cell_type": "code",
   "execution_count": 20,
   "metadata": {
    "colab": {
     "base_uri": "https://localhost:8080/"
    },
    "id": "Bg6-9jwU4ja_",
    "outputId": "02f45055-0e09-42ba-9ff3-0e7850f06cae"
   },
   "outputs": [
    {
     "data": {
      "text/plain": [
       "Document(page_content='voorbeelden. Bespreek waar \\n(in de opleiding)  \\nen hoe je aan de \\nslag wilt.Doe een pilot en \\nbespreek je bevindingen \\nmet collega’s en andere \\nbetrokkenen.Hoe ga je ermee aan de slag?\\nOnderwijs- en toetsbeleid voor je opleiding maak je niet alleen.  \\nBreng in kaart wie je gaat betrekken van jouw opleiding en denk \\ndaarbij ook aan studenten en werkveld als partners.\\nScan de code voor de Sharepoint\\nvan onderwijs- en toetsbeleid.\\nBespreek  \\nwat bij jouw \\nopleiding past.Maak een afspraak om te \\nsparren met een collega die al \\nervaring heeft opgedaan met \\neen specifiek onderwerp.Hier vind je de leden\\nvan de werkgroep OTBGebruik de \\ninformatie op \\nSharepoint. Wat \\nheb je nog nodig?\\nMaak een plan.\\nOrganiseer  \\neen werksessie.ORIËNTEREN\\n& INSPIRERENTOEPASSEN}', metadata={'source': 'HvA-infographic-onderwijs-toetsbeleid.txt'})"
      ]
     },
     "execution_count": 20,
     "metadata": {},
     "output_type": "execute_result"
    }
   ],
   "source": [
    "texts[3]"
   ]
  },
  {
   "cell_type": "markdown",
   "metadata": {
    "id": "YsYsIy8F4cdm"
   },
   "source": [
    "## 3. Create the vector database"
   ]
  },
  {
   "cell_type": "code",
   "execution_count": 21,
   "metadata": {
    "colab": {
     "base_uri": "https://localhost:8080/"
    },
    "id": "Q_eTIZwf4Dk2",
    "outputId": "1cd293c4-716c-402d-d41b-045b6a264041"
   },
   "outputs": [
    {
     "name": "stderr",
     "output_type": "stream",
     "text": [
      "Using embedded DuckDB with persistence: data will be stored in: db\n"
     ]
    }
   ],
   "source": [
    "# Embed and store the texts\n",
    "# Supplying a persist_directory will store the embeddings on disk\n",
    "persist_directory = 'db'\n",
    "\n",
    "## here we are using OpenAI embeddings but in future we will swap out to local embeddings\n",
    "embedding = OpenAIEmbeddings()\n",
    "\n",
    "vectordb = Chroma.from_documents(documents=texts, \n",
    "                                 embedding=embedding,\n",
    "                                 persist_directory=persist_directory)"
   ]
  },
  {
   "cell_type": "code",
   "execution_count": 22,
   "metadata": {
    "id": "uRfD_Te-47lb"
   },
   "outputs": [],
   "source": [
    "# persiste the db to disk\n",
    "vectordb.persist()\n",
    "vectordb = None"
   ]
  },
  {
   "cell_type": "code",
   "execution_count": 23,
   "metadata": {
    "colab": {
     "base_uri": "https://localhost:8080/"
    },
    "id": "A-h1y_eAHmD-",
    "outputId": "4a6097fb-e30e-4fa2-ff4d-b972ce7f6154"
   },
   "outputs": [
    {
     "name": "stderr",
     "output_type": "stream",
     "text": [
      "Using embedded DuckDB with persistence: data will be stored in: db\n"
     ]
    }
   ],
   "source": [
    "# Now we can load the persisted database from disk, and use it as normal. \n",
    "vectordb = Chroma(persist_directory=persist_directory, \n",
    "                  embedding_function=embedding)"
   ]
  },
  {
   "cell_type": "markdown",
   "metadata": {
    "id": "siLXR-XT0JoI"
   },
   "source": [
    "## 4. Make a retriever"
   ]
  },
  {
   "cell_type": "code",
   "execution_count": 24,
   "metadata": {
    "id": "6ObunFU30Lxh"
   },
   "outputs": [],
   "source": [
    "retriever = vectordb.as_retriever()"
   ]
  },
  {
   "cell_type": "code",
   "execution_count": 25,
   "metadata": {
    "id": "cYA-H59u0Skn"
   },
   "outputs": [],
   "source": [
    "docs = retriever.get_relevant_documents(\"Wat is didactisch coachen?\")"
   ]
  },
  {
   "cell_type": "code",
   "execution_count": 26,
   "metadata": {
    "colab": {
     "base_uri": "https://localhost:8080/"
    },
    "id": "h0iAuh_B0ZjE",
    "outputId": "2ffd1da1-ff6c-4ea9-c361-7230dbd5bdc0"
   },
   "outputs": [
    {
     "data": {
      "text/plain": [
       "4"
      ]
     },
     "execution_count": 26,
     "metadata": {},
     "output_type": "execute_result"
    }
   ],
   "source": [
    "len(docs)"
   ]
  },
  {
   "cell_type": "code",
   "execution_count": 27,
   "metadata": {
    "id": "jVWgPJXs1yRq"
   },
   "outputs": [],
   "source": [
    "retriever = vectordb.as_retriever(search_kwargs={\"k\": 2})"
   ]
  },
  {
   "cell_type": "code",
   "execution_count": 28,
   "metadata": {
    "colab": {
     "base_uri": "https://localhost:8080/",
     "height": 35
    },
    "id": "H4N0IhRM0hHL",
    "outputId": "f8058122-1c8a-4c5b-f046-14a90eed5a3b"
   },
   "outputs": [
    {
     "data": {
      "text/plain": [
       "'similarity'"
      ]
     },
     "execution_count": 28,
     "metadata": {},
     "output_type": "execute_result"
    }
   ],
   "source": [
    "retriever.search_type"
   ]
  },
  {
   "cell_type": "code",
   "execution_count": 29,
   "metadata": {
    "colab": {
     "base_uri": "https://localhost:8080/"
    },
    "id": "4jXL9u-u0prF",
    "outputId": "2e6dd94e-bede-4e05-c841-9c755ecfef2a"
   },
   "outputs": [
    {
     "data": {
      "text/plain": [
       "{'k': 2}"
      ]
     },
     "execution_count": 29,
     "metadata": {},
     "output_type": "execute_result"
    }
   ],
   "source": [
    "retriever.search_kwargs"
   ]
  },
  {
   "cell_type": "markdown",
   "metadata": {
    "id": "4Ia-4OXa5IeP"
   },
   "source": [
    "## 5. Make a chain"
   ]
  },
  {
   "cell_type": "code",
   "execution_count": 30,
   "metadata": {
    "id": "MGx8XblM4shW"
   },
   "outputs": [],
   "source": [
    "# create the chain to answer questions \n",
    "qa_chain = RetrievalQA.from_chain_type(llm=OpenAI(), \n",
    "                                  chain_type=\"stuff\", \n",
    "                                  retriever=retriever, \n",
    "                                  return_source_documents=True)"
   ]
  },
  {
   "cell_type": "code",
   "execution_count": 31,
   "metadata": {
    "id": "LZEo26mw8e5k"
   },
   "outputs": [],
   "source": [
    "## Cite sources\n",
    "def process_llm_response(llm_response):\n",
    "    print(llm_response['result'])\n",
    "    print('\\n\\nSources:')\n",
    "    for source in llm_response[\"source_documents\"]:\n",
    "        print(source.metadata['source'])"
   ]
  },
  {
   "cell_type": "code",
   "execution_count": 32,
   "metadata": {
    "colab": {
     "base_uri": "https://localhost:8080/"
    },
    "id": "wKfX4vX-5RFT",
    "outputId": "b3902fd2-86cc-4020-86a9-99883a996d20"
   },
   "outputs": [
    {
     "data": {
      "text/plain": [
       "{'query': 'What is didactisch coachen?',\n",
       " 'result': ' Didactisch Coachen is een planmatige en doelgericht e wijze van coachen met behulp van een aantal procesgerichte interventies die het leren en de motivatie van de lerende bevordert. Didactisch Coachen beoogt leerlingen actief en gemotiveerd te maken en te houden door het stellen van denkstimulerende vragen die bevorderlijk zijn voor het leerproces en feedback mogelijk maken, het geven van effectieve feedback die het leren positief beïnvloedt, het beperkt geven van aanwijzingen, en dit alles op zowel de dimensies van de taak (inhoud, strategie), als op de dimensies van de lerende persoon (modus / leerstand en de persoonlijke kwaliteiten).',\n",
       " 'source_documents': [Document(page_content='Didactisch Coachen is een planmatige en doelgericht e wijze van coachen met behulp \\nvan een aantal procesgerichte interventies die het leren en de motivatie van de lerende \\nbevordert. Didactisch Coachen beoogt leerlingen actief en gemotiveerd te maken en te \\nhouden door: \\n- het stellen van denkstimulerende vragen die bevorderlijk zijn voor het leerproces  \\n en feedback mogelijk maken\\n- het geven van effectieve feedback die het leren positief beïnvloedt \\n-  het beperkt geven van aanwijzingen\\n- en dit alles op zowel de dimensies van de taak (inhoud, strategie), als op de \\n dimensies van de lerende persoon (modus / leerstand en de persoonlijke \\n kwaliteiten). \\nHet enkel zeggen tegen je leerlingen dat je hoge ve rwachtingen van hen hebt is niet zo \\nzinvol. Dat moet je concreet maken in je eigen gedr ag. De bovenstaande interventies \\nkun je zien als een concretisering van ‘het hebben van hoge verwachtingen’.', metadata={'source': 'Didactisch Coachen. Lia Voerman en Frans Faber.txt'}),\n",
       "  Document(page_content=\"vaak individueel of in groepjes opdrachten maken die horen bij de stof. De docent loopt \\ndan langs en heeft de keus uit drie mogelijkheden: een vraag stellen, feedback geven of \\neen aanwijzing geven, de elementen van Didactisch Coachen. Voordat de docent echt \\n.kiest voor één van die drie, vindt er razendsnel een heel proces plaats waarbij de docent \\neen diagnose stelt, nl. wat heeft deze leerling nodig om te leren en verder te kunnen. \\nImpliciet neemt de leraar ook waar, hoe de leerling erbij zit, wat de modus is van de \\nleerling. \\nWij willen dit proces nog een keer beschrijven vanuit de combinatie van vragen \\nstellen en feedback geven. \\nDe combinatie van vragen stellen en feedback geven. \\nVoorbeeld 1: \\nEen leerling is geconcentreerd aan de slag met het maken van rekenopgaven. De leraar \\ndie langskomt, zegt: 'Hard aan het werk, zeg!' De leerling glimlacht naar de docent en \\ngaat door met zijn werk. De docent glimlacht terug en loopt door naar de volgende \\nleerling.\", metadata={'source': 'Strategie 3 Feedback en feedforward geven gericht op verder leren.txt'})]}"
      ]
     },
     "execution_count": 32,
     "metadata": {},
     "output_type": "execute_result"
    }
   ],
   "source": [
    "# full example\n",
    "query = \"What is didactisch coachen?\"\n",
    "llm_response = qa_chain(query)\n",
    "#process_llm_response(llm_response)\n",
    "llm_response"
   ]
  },
  {
   "cell_type": "code",
   "execution_count": 34,
   "metadata": {
    "colab": {
     "base_uri": "https://localhost:8080/"
    },
    "id": "olRm73t3rNt2",
    "outputId": "20fb1b17-6562-421d-a60e-c67b97ca67d7"
   },
   "outputs": [
    {
     "data": {
      "text/plain": [
       "{'query': 'Wat zijn de bouwstenen uit wijze lessen?',\n",
       " 'result': ' De bouwstenen uit Wijze Lessen zijn twaalf bouwstenen voor effectief lesgeven.',\n",
       " 'source_documents': [Document(page_content='27}\\nWijze Lessen28 | \\nHoe gebruik je dit boek?\\nDit boek gaat uitdrukkelijk niet over het maken van een lesvoorbereiding, \\nover klasmanagement, over de constructie van de perfecte toets, over administratie, over leer- en motivatietheorieën. Het boek gaat wel over de kern van ons vak: het lesgeven.\\nJe maakt in dit boek kennis met twaalf bouwstenen voor effectief lesge -\\nven. Je kunt als leraar tegen dit boek op verschillende manieren aankijken.', metadata={'source': 'Wijze_Lessen_digitaal_160919.txt'}),\n",
       "  Document(page_content=\"WIJZE LESSEN\\nTwaalf bouwstenen voor eﬀectieve didactiek\\nTim Surma • Kristel Vanhoyweghen • Dominique Sluijsmans\\nGino Camp • Daniel Muijs • Paul A. Kirschner}\\n‘Onderwijs is het punt waarop we beslissen \\nof we de wereld genoeg lief hebben om er \\nverantwoordelijkheid voor te nemen' \\nHannah Arendt (1954)}\\nWIJZE LESSEN\\nTwaalf bouwstenen voor effectieve didactiek\\nTim Surma • Kristel Vanhoyweghen • Dominique Sluijsmans\\nGino Camp • Daniel Muijs • Paul A. Kirschner}\\nColofon\\nWijze lessen, 12 bouwstenen voor effectieve didactiek \\nAuteurs Tim Surma, Kristel Vanhoyweghen, Dominique Sluijsmans, Gino Camp, \\nDaniel Muijs, Paul KirschnerUitgever Ten Brink Uitgevers, Meppel\\nVormgeving Chris Peeters, Janine CranshofRedactie John Arkenbout\\nDrukwerk Bariet, MeppelBestellen Ga voor het hele aanbod van Ten Brink Uitgevers naar de webshop www.tenbrinkuitgevers.nlISBN/EAN 9789077866528 NUR 840Eerste druk september 2019Ten Brink Uitgevers Parallelweg 1c7941 HH Meppel085 - 273 63 67 info@tenbrinkuitgevers.nl\", metadata={'source': 'Wijze_Lessen_digitaal_160919.txt'})]}"
      ]
     },
     "execution_count": 34,
     "metadata": {},
     "output_type": "execute_result"
    }
   ],
   "source": [
    "# break it down\n",
    "query = \"Wat zijn de bouwstenen uit wijze lessen?\"\n",
    "llm_response = qa_chain(query)\n",
    "# process_llm_response(llm_response)\n",
    "llm_response"
   ]
  },
  {
   "cell_type": "code",
   "execution_count": 42,
   "metadata": {},
   "outputs": [
    {
     "data": {
      "text/plain": [
       "{'query': 'Wat is cognitieve belasting?',\n",
       " 'result': \" Cognitieve belasting is een theorie ontwikkeld door John Sweller en collega's in de jaren 80. Het betekent het beheren van de belasting van het werkgeheugen zodat de extrinsieke belasting geminimaliseerd wordt en de cognitieve capaciteit optimaal gebruikt wordt binnen de grenzen van de beschikbare bandbreedte van de leerling.\",\n",
       " 'source_documents': [Document(page_content='Optimale belasting van het werkgeheugen: \\nniet te veel, niet te weinig. \\nDeze kenmerken van ons brein hebben belangrijke didactische gevol-\\ngen. Zeker als het werkgeheugen van leerlingen nieuwe informatie te verwerken krijgt in een les, is het belangrijk om de beperkingen van dat werkgeheugen te kennen. Dit idee vormde de basis voor de cognitieve-belastingtheorie (cognitive load theory). Deze theorie is de jaren tachtig ontwikkeld door John Sweller en collega’s.\\n11\\nStel dat je als lerende een maximale capaciteit van je werkgeheugen hebt, noem het ‘mentale bandbreedte’ , dan moeten we proberen die bandbreedte niet te overschrijden. Wordt de bandbreedte overschreden, dan stopt het leren. Die mentale bandbreedte kan volgens de cognitieve-cognitive load \\ntheory}\\nWijze Lessen16 | \\nINTRINSIEKE BELASTING \\nIntrinsieke belasting wordt bepaald door de complexiteit van het te leren onderwerp zelf. Sommige', metadata={'source': 'Wijze_Lessen_digitaal_160919.txt'}),\n",
       "  Document(page_content='Ongebruikte mentale brandbreedteOngebruikte mentale brandbreedte\\nIntrinsieke belasting: laagAls de cognitieve belasting te hoog wordt, belemmert dit niet alleen het \\nleren maar ook de vertaling van wat we hebben geleerd naar nieuwe situ-aties. Om het leren te bevorderen, kan de cognitieve belasting het best zo worden beheerd dat de extrinsieke belasting wordt geminimaliseerd (bijvoorbeeld didactische aanpakken die het leren nodeloos complex maken trachten te vermijden). Daardoor kan de cognitieve capaciteit die nodig is voor het leren worden geoptimaliseerd, weliswaar altijd binnen de grenzen van de beschikbare bandbreedte van de leerling. Het is dus niet zo dat we moeten proberen om de belasting van het werkgeheugen tijdens het leerproces tot een minimum te beperken. Het gaat meer over het optimaliseren van de cognitieve belasting en het maximaal gebruiken van de bandbreedte. Figuur 5 illustreert dit.\\n13', metadata={'source': 'Wijze_Lessen_digitaal_160919.txt'})]}"
      ]
     },
     "execution_count": 42,
     "metadata": {},
     "output_type": "execute_result"
    }
   ],
   "source": [
    "# break it down\n",
    "query = \"Wat is cognitieve belasting?\"\n",
    "llm_response = qa_chain(query)\n",
    "# process_llm_response(llm_response)\n",
    "llm_response"
   ]
  },
  {
   "cell_type": "code",
   "execution_count": null,
   "metadata": {
    "colab": {
     "base_uri": "https://localhost:8080/"
    },
    "id": "IPIhZWAR5n3X",
    "outputId": "68914c62-f8ed-4e22-d889-7991df441d53"
   },
   "outputs": [
    {
     "data": {
      "text/plain": [
       "('similarity', <langchain.vectorstores.chroma.Chroma at 0x7f9f7dc82aa0>)"
      ]
     },
     "execution_count": 27,
     "metadata": {},
     "output_type": "execute_result"
    }
   ],
   "source": [
    "qa_chain.retriever.search_type , qa_chain.retriever.vectorstore"
   ]
  },
  {
   "cell_type": "code",
   "execution_count": 25,
   "metadata": {
    "colab": {
     "base_uri": "https://localhost:8080/"
    },
    "id": "3_lp0_796P_-",
    "outputId": "64c01726-6e78-4c12-e409-2fdc839f6611"
   },
   "outputs": [
    {
     "name": "stdout",
     "output_type": "stream",
     "text": [
      "Use the following pieces of context to answer the question at the end. If you don't know the answer, just say that you don't know, don't try to make up an answer.\n",
      "\n",
      "{context}\n",
      "\n",
      "Question: {question}\n",
      "Helpful Answer:\n"
     ]
    }
   ],
   "source": [
    "print(qa_chain.combine_documents_chain.llm_chain.prompt.template)"
   ]
  },
  {
   "cell_type": "markdown",
   "metadata": {
    "id": "SSxVCnNi5h1-"
   },
   "source": [
    "## Deleteing the DB"
   ]
  },
  {
   "cell_type": "code",
   "execution_count": null,
   "metadata": {
    "colab": {
     "base_uri": "https://localhost:8080/"
    },
    "id": "H7xmepGJ2GAE",
    "outputId": "92b53c84-ef81-4000-db5a-2c2ec09db311"
   },
   "outputs": [
    {
     "name": "stdout",
     "output_type": "stream",
     "text": [
      "  adding: db/ (stored 0%)\n",
      "  adding: db/chroma-collections.parquet (deflated 50%)\n",
      "  adding: db/index/ (stored 0%)\n",
      "  adding: db/index/index_metadata_59c51927-205d-4fd7-88d8-c7ba851bd2a5.pkl (deflated 5%)\n",
      "  adding: db/index/uuid_to_id_59c51927-205d-4fd7-88d8-c7ba851bd2a5.pkl (deflated 39%)\n",
      "  adding: db/index/index_59c51927-205d-4fd7-88d8-c7ba851bd2a5.bin (deflated 17%)\n",
      "  adding: db/index/id_to_uuid_59c51927-205d-4fd7-88d8-c7ba851bd2a5.pkl (deflated 35%)\n",
      "  adding: db/chroma-embeddings.parquet (deflated 29%)\n"
     ]
    }
   ],
   "source": [
    "!zip -r db.zip ./db"
   ]
  },
  {
   "cell_type": "code",
   "execution_count": null,
   "metadata": {
    "id": "Jl84qGQt5Wu5"
   },
   "outputs": [],
   "source": [
    "# To cleanup, you can delete the collection\n",
    "vectordb.delete_collection()\n",
    "vectordb.persist()\n",
    "\n",
    "# delete the directory\n",
    "!rm -rf db/"
   ]
  },
  {
   "cell_type": "markdown",
   "metadata": {
    "id": "R2r0ZIBPJp-K"
   },
   "source": [
    "## Starting again loading the db\n",
    "\n",
    "restart the runtime"
   ]
  },
  {
   "cell_type": "code",
   "execution_count": null,
   "metadata": {
    "colab": {
     "base_uri": "https://localhost:8080/"
    },
    "id": "8pc7CM_mTQAt",
    "outputId": "f8e311fb-7d68-43af-ffd6-f66a9259766a"
   },
   "outputs": [
    {
     "name": "stdout",
     "output_type": "stream",
     "text": [
      "Archive:  db.zip\n",
      "   creating: db/\n",
      "  inflating: db/chroma-collections.parquet  \n",
      "   creating: db/index/\n",
      "  inflating: db/index/index_metadata_59c51927-205d-4fd7-88d8-c7ba851bd2a5.pkl  \n",
      "  inflating: db/index/uuid_to_id_59c51927-205d-4fd7-88d8-c7ba851bd2a5.pkl  \n",
      "  inflating: db/index/index_59c51927-205d-4fd7-88d8-c7ba851bd2a5.bin  \n",
      "  inflating: db/index/id_to_uuid_59c51927-205d-4fd7-88d8-c7ba851bd2a5.pkl  \n",
      "  inflating: db/chroma-embeddings.parquet  \n"
     ]
    }
   ],
   "source": [
    "!unzip db.zip"
   ]
  },
  {
   "cell_type": "code",
   "execution_count": null,
   "metadata": {
    "id": "us3F8ZKeRiz2"
   },
   "outputs": [],
   "source": [
    "import os\n",
    "\n",
    "os.environ[\"OPENAI_API_KEY\"] = \"\""
   ]
  },
  {
   "cell_type": "code",
   "execution_count": null,
   "metadata": {
    "id": "qK1nY4PkKYGo"
   },
   "outputs": [],
   "source": [
    "from langchain.vectorstores import Chroma\n",
    "from langchain.embeddings import OpenAIEmbeddings\n",
    "\n",
    "from langchain.chat_models import ChatOpenAI\n",
    "from langchain.chains import RetrievalQA"
   ]
  },
  {
   "cell_type": "code",
   "execution_count": null,
   "metadata": {
    "colab": {
     "base_uri": "https://localhost:8080/"
    },
    "id": "396RyNbS4EXx",
    "outputId": "502d5c81-0823-4c00-89ca-7b4dd08bee26"
   },
   "outputs": [
    {
     "name": "stderr",
     "output_type": "stream",
     "text": [
      "WARNING:chromadb:Using embedded DuckDB with persistence: data will be stored in: db\n"
     ]
    }
   ],
   "source": [
    "persist_directory = 'db'\n",
    "embedding = OpenAIEmbeddings()\n",
    "\n",
    "vectordb2 = Chroma(persist_directory=persist_directory, \n",
    "                  embedding_function=embedding,\n",
    "                   )\n",
    "\n",
    "retriever = vectordb2.as_retriever(search_kwargs={\"k\": 2})"
   ]
  },
  {
   "cell_type": "code",
   "execution_count": null,
   "metadata": {
    "id": "F3vkSxxYKCZ9"
   },
   "outputs": [],
   "source": [
    "# Set up the turbo LLM\n",
    "turbo_llm = ChatOpenAI(\n",
    "    temperature=0,\n",
    "    model_name='gpt-3.5-turbo'\n",
    ")"
   ]
  },
  {
   "cell_type": "code",
   "execution_count": null,
   "metadata": {
    "id": "PsR60NH5KCfj"
   },
   "outputs": [],
   "source": [
    "# create the chain to answer questions \n",
    "qa_chain = RetrievalQA.from_chain_type(llm=turbo_llm, \n",
    "                                  chain_type=\"stuff\", \n",
    "                                  retriever=retriever, \n",
    "                                  return_source_documents=True)"
   ]
  },
  {
   "cell_type": "code",
   "execution_count": null,
   "metadata": {
    "id": "RWulTG0eKCfk"
   },
   "outputs": [],
   "source": [
    "## Cite sources\n",
    "def process_llm_response(llm_response):\n",
    "    print(llm_response['result'])\n",
    "    print('\\n\\nSources:')\n",
    "    for source in llm_response[\"source_documents\"]:\n",
    "        print(source.metadata['source'])"
   ]
  },
  {
   "cell_type": "code",
   "execution_count": null,
   "metadata": {
    "colab": {
     "base_uri": "https://localhost:8080/"
    },
    "id": "mDp-g2FtKCfk",
    "outputId": "766f131a-daaf-462f-842a-f7bd10a081fd"
   },
   "outputs": [
    {
     "name": "stdout",
     "output_type": "stream",
     "text": [
      "Pando raised $30 million in a Series B round, bringing its total raised to $45 million.\n",
      "\n",
      "\n",
      "Sources:\n",
      "new_articles/05-03-ai-powered-supply-chain-startup-pando-lands-30m-investment.txt\n",
      "new_articles/05-03-ai-powered-supply-chain-startup-pando-lands-30m-investment.txt\n"
     ]
    }
   ],
   "source": [
    "# full example\n",
    "query = \"How much money did Pando raise?\"\n",
    "llm_response = qa_chain(query)\n",
    "process_llm_response(llm_response)"
   ]
  },
  {
   "cell_type": "markdown",
   "metadata": {
    "id": "7fPl26c-TbWw"
   },
   "source": [
    "### Chat prompts"
   ]
  },
  {
   "cell_type": "code",
   "execution_count": null,
   "metadata": {
    "colab": {
     "base_uri": "https://localhost:8080/"
    },
    "id": "wwyuhrpu5XqM",
    "outputId": "0f2c8060-4002-49ba-8869-6a9990c2c6d6"
   },
   "outputs": [
    {
     "name": "stdout",
     "output_type": "stream",
     "text": [
      "Use the following pieces of context to answer the users question. \n",
      "If you don't know the answer, just say that you don't know, don't try to make up an answer.\n",
      "----------------\n",
      "{context}\n"
     ]
    }
   ],
   "source": [
    "print(qa_chain.combine_documents_chain.llm_chain.prompt.messages[0].prompt.template)"
   ]
  },
  {
   "cell_type": "code",
   "execution_count": null,
   "metadata": {
    "colab": {
     "base_uri": "https://localhost:8080/"
    },
    "id": "LcWXvSCHRvHO",
    "outputId": "d7a3acee-9ef1-4c08-b2a0-187f2cd90c8f"
   },
   "outputs": [
    {
     "name": "stdout",
     "output_type": "stream",
     "text": [
      "{question}\n"
     ]
    }
   ],
   "source": [
    "print(qa_chain.combine_documents_chain.llm_chain.prompt.messages[1].prompt.template)"
   ]
  },
  {
   "cell_type": "code",
   "execution_count": null,
   "metadata": {
    "id": "978QWCeJSRdu"
   },
   "outputs": [],
   "source": []
  }
 ],
 "metadata": {
  "colab": {
   "provenance": []
  },
  "kernelspec": {
   "display_name": "Python 3 (ipykernel)",
   "language": "python",
   "name": "python3"
  },
  "language_info": {
   "codemirror_mode": {
    "name": "ipython",
    "version": 3
   },
   "file_extension": ".py",
   "mimetype": "text/x-python",
   "name": "python",
   "nbconvert_exporter": "python",
   "pygments_lexer": "ipython3",
   "version": "3.10.9"
  }
 },
 "nbformat": 4,
 "nbformat_minor": 1
}
